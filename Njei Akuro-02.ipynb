{
 "cells": [
  {
   "cell_type": "markdown",
   "metadata": {},
   "source": [
    "Exercise 3-1"
   ]
  },
  {
   "cell_type": "code",
   "execution_count": 54,
   "metadata": {},
   "outputs": [],
   "source": [
    "from __future__ import print_function, division\n",
    "\n",
    "%matplotlib inline\n",
    "\n",
    "import numpy as np\n",
    "\n",
    "import nsfg\n",
    "import first\n",
    "import thinkstats2\n",
    "import thinkplot"
   ]
  },
  {
   "cell_type": "code",
   "execution_count": 55,
   "metadata": {},
   "outputs": [],
   "source": [
    "resp = nsfg.ReadFemResp()"
   ]
  },
  {
   "cell_type": "markdown",
   "metadata": {},
   "source": [
    "Below code is to define the variable numkdhh"
   ]
  },
  {
   "cell_type": "code",
   "execution_count": 57,
   "metadata": {},
   "outputs": [],
   "source": [
    "pmf = thinkstats2.Pmf(resp.numkdhh, label='numkdhh')"
   ]
  },
  {
   "cell_type": "markdown",
   "metadata": {},
   "source": [
    "Below code is to plot actual distribution for the number of children under 18 in the household. This number of children under 18 in a household is defined by the variable numkdhh above"
   ]
  },
  {
   "cell_type": "code",
   "execution_count": 58,
   "metadata": {},
   "outputs": [
    {
     "data": {
      "image/png": "[encoded data removed]",
      "text/plain": [
       "<Figure size 432x288 with 1 Axes>"
      ]
     },
     "metadata": {
      "needs_background": "light"
     },
     "output_type": "display_data"
    }
   ],
   "source": [
    "thinkplot.Pmf(pmf)\n",
    "thinkplot.Config(xlabel='Number of children', ylabel='PMF')"
   ]
  },
  {
   "cell_type": "markdown",
   "metadata": {},
   "source": [
    "The book solution does not have the below code for Exercise 3-1. When I ran my code, I had an error that the Biaspmf was not defined, so I brought it this block of code and it worked.I am therefore wondering how the author's code worked when the Biaspmf was not defined in the solution"
   ]
  },
  {
   "cell_type": "code",
   "execution_count": 63,
   "metadata": {},
   "outputs": [],
   "source": [
    "def BiasPmf(pmf, label):\n",
    "    new_pmf = pmf.Copy(label=label)\n",
    "\n",
    "    for x, p in pmf.Items():\n",
    "        new_pmf.Mult(x, x)\n",
    "        \n",
    "    new_pmf.Normalize()\n",
    "    return new_pmf\n",
    "    "
   ]
  },
  {
   "cell_type": "code",
   "execution_count": 64,
   "metadata": {},
   "outputs": [],
   "source": [
    "biased = BiasPmf(pmf, label='biased')"
   ]
  },
  {
   "cell_type": "markdown",
   "metadata": {},
   "source": [
    "Below code is to plot the the biased distribution"
   ]
  },
  {
   "cell_type": "code",
   "execution_count": 65,
   "metadata": {},
   "outputs": [
    {
     "data": {
      "image/png": "[encoded data removed]",
      "text/plain": [
       "<Figure size 432x288 with 1 Axes>"
      ]
     },
     "metadata": {
      "needs_background": "light"
     },
     "output_type": "display_data"
    }
   ],
   "source": [
    "thinkplot.PrePlot(2)\n",
    "thinkplot.Pmfs([pmf, biased])\n",
    "thinkplot.Config(xlabel='Number of children', ylabel='PMF')"
   ]
  },
  {
   "cell_type": "markdown",
   "metadata": {},
   "source": [
    "Code below compute the mean for the actual distribution \n",
    "Class size paradox tells us that students tend to experience a greater number of classmates than the true average class size because most of a large number of those experiences are in the classes with most students.The observed mean is therefore greater than the actual class size.In this case, the mean of the biased distribution is greater than the mean of the actual distribution, similar to the class size paradox."
   ]
  },
  {
   "cell_type": "code",
   "execution_count": 61,
   "metadata": {},
   "outputs": [
    {
     "data": {
      "text/plain": [
       "1.024205155043831"
      ]
     },
     "execution_count": 61,
     "metadata": {},
     "output_type": "execute_result"
    }
   ],
   "source": [
    "pmf.Mean()"
   ]
  },
  {
   "cell_type": "markdown",
   "metadata": {},
   "source": [
    "Code below computes the mean for the biased distribution"
   ]
  },
  {
   "cell_type": "code",
   "execution_count": 66,
   "metadata": {},
   "outputs": [
    {
     "data": {
      "text/plain": [
       "2.403679100664282"
      ]
     },
     "execution_count": 66,
     "metadata": {},
     "output_type": "execute_result"
    }
   ],
   "source": [
    "biased.Mean()"
   ]
  },
  {
   "cell_type": "markdown",
   "metadata": {},
   "source": [
    "Exercise 3-2:"
   ]
  },
  {
   "cell_type": "markdown",
   "metadata": {},
   "source": [
    "Code below is a function pmfMean that calculates the mean"
   ]
  },
  {
   "cell_type": "code",
   "execution_count": 71,
   "metadata": {},
   "outputs": [],
   "source": [
    "def PmfMean(pmf):\n",
    "\n",
    "    mean = 0.0\n",
    "    for x, p in pmf.d.items():\n",
    "        mean += p * x\n",
    "    return mean"
   ]
  },
  {
   "cell_type": "code",
   "execution_count": null,
   "metadata": {},
   "outputs": [],
   "source": [
    "Code below is a function pmfVar that calculates the variance"
   ]
  },
  {
   "cell_type": "code",
   "execution_count": 70,
   "metadata": {},
   "outputs": [],
   "source": [
    "def PmfVar(pmf, mu=None):\n",
    "\n",
    "    if mu is None:\n",
    "        mu = pmf.Mean()\n",
    "\n",
    "    var = 0.0\n",
    "    for x, p in pmf.d.items():\n",
    "        var += p * (x - mu) ** 2\n",
    "    return var\n"
   ]
  },
  {
   "cell_type": "markdown",
   "metadata": {},
   "source": [
    "Exercise 4-1:"
   ]
  },
  {
   "cell_type": "code",
   "execution_count": 83,
   "metadata": {},
   "outputs": [],
   "source": [
    "live, firsts, others = first.MakeFrames()"
   ]
  },
  {
   "cell_type": "code",
   "execution_count": 91,
   "metadata": {},
   "outputs": [
    {
     "name": "stdout",
     "output_type": "stream",
     "text": [
      "Firsts 4413 4363\n",
      "Others 4735 4675\n"
     ]
    }
   ],
   "source": [
    "first_wgt = firsts.totalwgt_lb\n",
    "first_wgt_dropna = first_wgt.dropna()\n",
    "print('Firsts', len(first_wgt), len(first_wgt_dropna))\n",
    " \n",
    "other_wgt = others.totalwgt_lb\n",
    "other_wgt_dropna = other_wgt.dropna()\n",
    "print('Others', len(other_wgt), len(other_wgt_dropna))\n",
    "\n",
    "first_pmf = thinkstats2.Pmf(first_wgt_dropna, label='first')\n",
    "other_pmf = thinkstats2.Pmf(other_wgt_dropna, label='other')"
   ]
  },
  {
   "cell_type": "code",
   "execution_count": 89,
   "metadata": {},
   "outputs": [],
   "source": [
    "first_cdf = thinkstats2.Cdf(firsts.totalwgt_lb, label='first')\n",
    "other_cdf = thinkstats2.Cdf(others.totalwgt_lb, label='other')"
   ]
  },
  {
   "cell_type": "markdown",
   "metadata": {},
   "source": [
    "Below code gives us the distribbution of birth weights"
   ]
  },
  {
   "cell_type": "code",
   "execution_count": 90,
   "metadata": {},
   "outputs": [
    {
     "data": {
      "image/png": "[encoded data removed]",
      "text/plain": [
       "<Figure size 432x288 with 1 Axes>"
      ]
     },
     "metadata": {
      "needs_background": "light"
     },
     "output_type": "display_data"
    }
   ],
   "source": [
    "thinkplot.PrePlot(2)\n",
    "thinkplot.Cdfs([first_cdf, other_cdf])\n",
    "thinkplot.Config(xlabel='Weight (pounds)', ylabel='CDF')"
   ]
  },
  {
   "cell_type": "markdown",
   "metadata": {},
   "source": [
    "Below code takes in weight of first baby to return the percentile. However I am second child to my mom and weighed 8.1 at birth.Let's assume I was the first child, then my perecentile would have been 76.89 approximately 77 percentile rank"
   ]
  },
  {
   "cell_type": "code",
   "execution_count": 92,
   "metadata": {},
   "outputs": [
    {
     "data": {
      "text/plain": [
       "76.89663075865231"
      ]
     },
     "execution_count": 92,
     "metadata": {},
     "output_type": "execute_result"
    }
   ],
   "source": [
    "first_cdf.PercentileRank(8.1)"
   ]
  },
  {
   "cell_type": "markdown",
   "metadata": {},
   "source": [
    "I was actually the second child and weighed 8.1 pounds at birth.My percentile is therefore 72.36 approximately 72 rank"
   ]
  },
  {
   "cell_type": "code",
   "execution_count": 93,
   "metadata": {},
   "outputs": [
    {
     "data": {
      "text/plain": [
       "72.36363636363636"
      ]
     },
     "execution_count": 93,
     "metadata": {},
     "output_type": "execute_result"
    }
   ],
   "source": [
    "other_cdf.PercentileRank(8.1)"
   ]
  },
  {
   "cell_type": "markdown",
   "metadata": {},
   "source": [
    "Exercise 4-2 Below code Generates 1000 numbers from random.random and plot their PMF and CDF.\n",
    "Is the distribution uniform?\n"
   ]
  },
  {
   "cell_type": "code",
   "execution_count": 74,
   "metadata": {},
   "outputs": [
    {
     "name": "stdout",
     "output_type": "stream",
     "text": [
      "[3.36912623e-01 4.28586278e-01 1.24882919e-01 3.01796462e-01\n",
      " 7.52488962e-01 7.26445099e-02 6.99914972e-01 6.18206768e-01\n",
      " 1.66185474e-01 6.77994670e-02 4.42530502e-01 2.13120004e-01\n",
      " 2.44196494e-01 9.84980913e-01 2.35224109e-01 5.57289311e-01\n",
      " 9.15230410e-01 1.96529927e-01 2.76187794e-01 5.86872719e-01\n",
      " 4.62959707e-01 4.91755602e-01 2.41878575e-01 3.88055334e-01\n",
      " 4.03179900e-01 2.02012019e-01 5.59513804e-01 7.06324725e-01\n",
      " 7.07139172e-01 9.19155434e-01 5.61440287e-01 8.20258558e-01\n",
      " 7.85673062e-01 6.96816915e-01 2.39923854e-01 5.13327733e-01\n",
      " 8.95457701e-01 7.85373901e-01 4.45799281e-01 8.25123777e-01\n",
      " 5.19962727e-01 8.79885585e-01 3.95783048e-01 2.36171191e-01\n",
      " 6.62135506e-01 8.09771397e-01 2.59623422e-02 4.90988305e-01\n",
      " 1.79898018e-01 3.06243995e-01 8.52858884e-01 7.99550587e-01\n",
      " 5.30502472e-01 2.19738366e-01 3.36215955e-01 9.81806851e-01\n",
      " 7.09283036e-01 2.90780781e-01 5.43982331e-02 6.52521612e-01\n",
      " 3.47960017e-01 1.76386733e-01 6.64618553e-01 4.24655793e-01\n",
      " 6.85499315e-01 9.78916386e-01 1.02341449e-01 3.62012145e-01\n",
      " 6.36218744e-01 6.54696812e-01 3.44520473e-02 3.70944030e-01\n",
      " 2.63436913e-01 2.11812735e-01 9.10045782e-02 9.11635019e-01\n",
      " 4.86205222e-01 5.08515533e-01 9.42203787e-01 6.45177010e-01\n",
      " 6.21070486e-01 5.17147140e-01 7.16124208e-01 5.51141273e-01\n",
      " 9.52335474e-02 3.49624240e-01 7.88252790e-01 3.61660463e-01\n",
      " 2.45002652e-01 6.76900323e-01 1.02036091e-01 3.30588393e-01\n",
      " 9.68103258e-02 5.15397854e-01 8.39990788e-01 9.04818757e-01\n",
      " 5.31005293e-01 1.76767097e-01 4.13739768e-01 4.78661849e-02\n",
      " 3.71009619e-01 1.94942031e-01 7.98739424e-01 1.62670584e-01\n",
      " 4.65659446e-01 5.90903380e-01 5.40322484e-01 4.30999287e-01\n",
      " 9.14017803e-01 5.59982594e-01 3.45761658e-01 9.93537563e-01\n",
      " 4.29501989e-01 4.88708430e-01 6.22091790e-01 5.14546469e-01\n",
      " 2.89557103e-02 4.77629133e-01 8.98977558e-01 9.53134890e-01\n",
      " 6.11609207e-01 8.35530857e-01 9.04605293e-01 5.18163114e-01\n",
      " 1.14808789e-01 5.13269237e-01 9.67094316e-01 4.33741816e-01\n",
      " 7.95429995e-01 3.52007902e-01 9.91488331e-01 2.69034977e-01\n",
      " 7.33684399e-01 8.22224283e-01 5.15775456e-01 1.39346901e-01\n",
      " 2.63745747e-01 9.23402268e-01 8.76012680e-01 8.01601527e-01\n",
      " 2.50912253e-02 9.48402189e-01 2.38106959e-01 8.99356857e-01\n",
      " 9.67684571e-01 2.86308462e-01 5.21609649e-01 8.04016707e-01\n",
      " 3.12656825e-01 5.18554836e-04 4.12223781e-01 8.57701895e-01\n",
      " 6.42131172e-01 6.36771456e-01 7.63991794e-01 8.20925859e-01\n",
      " 8.96958533e-01 2.00222870e-01 6.29868681e-01 3.99774093e-02\n",
      " 6.01201968e-01 2.62966762e-01 2.22444528e-01 9.45669652e-01\n",
      " 9.02667722e-01 7.00122304e-01 5.03642034e-01 9.48767731e-01\n",
      " 4.75203409e-01 9.64167208e-01 9.56781201e-01 8.17405614e-01\n",
      " 7.68526192e-01 3.73498444e-01 7.73587395e-01 1.94671762e-01\n",
      " 4.01739709e-01 4.08208406e-01 3.74056933e-01 4.17058548e-01\n",
      " 4.48403677e-01 7.36713915e-01 3.57684439e-01 3.51894360e-01\n",
      " 1.93676201e-01 5.74489617e-01 4.23694242e-01 2.94379206e-01\n",
      " 7.36734732e-01 3.62707663e-01 2.69125300e-01 2.35424601e-01\n",
      " 7.97409802e-01 5.47115979e-01 6.76870767e-01 9.39377785e-01\n",
      " 8.28390718e-01 6.73104285e-04 2.94083277e-01 6.60144177e-03\n",
      " 7.40478571e-01 3.09831383e-01 2.64757291e-01 3.51181723e-01\n",
      " 6.25777025e-01 9.96913693e-01 9.18313875e-01 3.54974260e-01\n",
      " 9.13878316e-01 6.86336631e-01 5.17598153e-01 9.59785501e-01\n",
      " 7.48391045e-01 3.16293266e-01 7.11918233e-01 6.30450485e-01\n",
      " 5.68894604e-02 5.92167652e-01 1.62874645e-01 2.93992211e-01\n",
      " 2.47828799e-01 2.71766668e-01 1.01912163e-01 9.36424239e-01\n",
      " 8.23870601e-01 5.74048051e-02 3.53172904e-01 6.68666691e-01\n",
      " 8.42163434e-01 3.50416395e-01 6.43512870e-01 3.49058680e-02\n",
      " 9.79523344e-01 9.52455681e-01 8.95313111e-01 2.22609538e-01\n",
      " 1.82174908e-02 4.39569452e-01 9.46266076e-01 7.90007329e-01\n",
      " 4.31103612e-01 7.54552428e-01 5.13922638e-01 8.51172031e-01\n",
      " 2.11114439e-01 4.45927264e-02 1.85744800e-01 6.94500627e-02\n",
      " 2.48546678e-01 7.96948287e-02 8.51151151e-01 4.79578475e-02\n",
      " 5.11440581e-02 4.67115582e-01 9.81820350e-02 1.90032188e-01\n",
      " 7.27890294e-01 5.94433576e-01 3.38821032e-01 7.97352935e-01\n",
      " 1.62699145e-01 4.46184707e-01 7.97496955e-01 9.21475246e-01\n",
      " 7.70215359e-01 8.15669143e-03 2.19992535e-01 6.61863896e-01\n",
      " 3.69541222e-01 1.04531570e-01 2.18432516e-01 5.33219961e-02\n",
      " 1.52019125e-01 1.21003457e-01 2.66731075e-01 5.79681774e-01\n",
      " 7.41258884e-01 7.54641523e-01 1.75223350e-01 6.61708725e-03\n",
      " 1.87330135e-01 7.05878547e-01 5.18230466e-01 7.76887789e-01\n",
      " 3.33480860e-01 1.29046102e-01 8.77385551e-01 8.58606852e-01\n",
      " 9.00342066e-01 7.42621362e-01 5.02231030e-01 1.95282184e-01\n",
      " 4.00360705e-01 1.38003406e-01 4.56194939e-01 1.18164932e-01\n",
      " 6.28300247e-01 2.40995744e-01 6.94446821e-02 8.76317693e-01\n",
      " 5.08892817e-01 9.49310883e-01 4.16763378e-02 6.90186914e-01\n",
      " 6.09487911e-01 1.58949102e-01 2.57567171e-02 9.03092668e-01\n",
      " 4.02890620e-01 5.08581090e-01 1.35258412e-01 3.85205185e-01\n",
      " 9.12555560e-01 2.44261699e-01 7.99385489e-01 2.84110503e-01\n",
      " 3.72508466e-01 3.59530446e-01 4.50211179e-01 8.00515055e-01\n",
      " 2.54492809e-01 3.02462989e-02 3.73461468e-01 7.93696111e-01\n",
      " 2.24582224e-01 1.16017666e-01 1.58884855e-01 7.47887792e-01\n",
      " 2.56237236e-01 7.27226555e-02 1.39956048e-01 1.99832445e-01\n",
      " 9.12782481e-01 3.06621718e-01 8.46956722e-01 2.14872723e-01\n",
      " 3.28243531e-01 6.33838412e-01 5.32212006e-01 6.08955069e-01\n",
      " 5.58979676e-01 5.85138368e-02 6.40338888e-01 1.85066952e-01\n",
      " 9.34101562e-01 9.61930971e-01 1.81501196e-01 7.18373314e-01\n",
      " 5.93584508e-01 2.04688624e-01 6.82906137e-01 4.53179053e-01\n",
      " 4.76620080e-01 1.33193054e-01 5.47762402e-01 4.94697477e-01\n",
      " 7.11261665e-01 7.86641798e-01 8.95710365e-01 8.67821125e-01\n",
      " 5.56219707e-01 1.89457485e-01 1.61124629e-01 7.21841867e-01\n",
      " 2.23764331e-01 6.77159918e-01 1.44334675e-01 3.25238794e-01\n",
      " 3.42702365e-01 1.57127597e-01 1.58098064e-01 9.14737643e-01\n",
      " 4.46216483e-01 1.53357133e-01 2.61056186e-01 9.05569764e-02\n",
      " 3.54349197e-01 5.21681202e-02 6.99405626e-01 5.58463918e-01\n",
      " 1.50467772e-01 7.85462838e-01 7.33238659e-01 7.22305310e-01\n",
      " 9.72161333e-02 4.33741935e-01 4.91803303e-01 4.91771345e-01\n",
      " 2.67445713e-01 1.44831087e-01 9.56331597e-01 4.89126098e-02\n",
      " 6.46580577e-01 6.33009269e-01 6.78552476e-02 6.80477899e-01\n",
      " 9.87645273e-01 3.27302529e-01 2.88364058e-01 9.53209306e-01\n",
      " 2.06777474e-01 2.13258110e-01 2.66562495e-01 5.66289971e-01\n",
      " 3.23267061e-01 6.58067919e-01 9.27552053e-01 3.46806448e-01\n",
      " 5.50919009e-01 1.68664020e-01 5.45462800e-02 9.36959663e-01\n",
      " 1.77574394e-01 9.65776905e-01 5.35991192e-01 5.92745697e-01\n",
      " 3.39200912e-01 7.70085570e-02 3.39129224e-02 6.13531665e-02\n",
      " 7.44419309e-01 3.67403124e-01 2.67576435e-01 4.68287453e-01\n",
      " 5.39744129e-01 9.43358655e-01 5.71920843e-01 6.63696493e-01\n",
      " 4.09612170e-01 1.01799694e-01 5.41811874e-01 2.80991596e-01\n",
      " 6.98333410e-01 9.12134724e-01 1.67830943e-01 1.79557435e-01\n",
      " 3.37601776e-02 1.56481185e-01 6.56727343e-01 2.33521833e-01\n",
      " 8.42364603e-01 5.43168915e-02 5.62274802e-02 8.23375574e-01\n",
      " 3.91381056e-01 7.80544219e-02 9.39238118e-01 3.45793437e-01\n",
      " 3.77125074e-01 4.10203074e-01 5.57504847e-01 5.38629609e-01\n",
      " 8.81253220e-01 9.93554932e-01 4.69751983e-01 6.39450321e-01\n",
      " 5.50828227e-01 8.73721631e-01 8.25602460e-01 6.46421118e-01\n",
      " 3.36383643e-02 8.78768846e-01 1.63988325e-01 8.48176526e-02\n",
      " 5.77663309e-01 1.89171532e-01 2.35723212e-01 8.04230917e-01\n",
      " 3.22826691e-01 7.22520946e-01 5.47684826e-01 5.06915109e-01\n",
      " 4.70434782e-01 9.68879163e-02 2.28130741e-01 6.18327545e-01\n",
      " 4.33022243e-01 7.16293640e-01 4.70665193e-01 1.53863622e-01\n",
      " 4.53200659e-01 1.36237383e-01 2.53315833e-01 4.06639596e-01\n",
      " 9.19380324e-01 1.53714991e-01 3.88315108e-01 7.35903382e-01\n",
      " 9.16417084e-01 5.62817728e-01 9.44179099e-01 9.98631430e-01\n",
      " 8.21668784e-01 9.12563270e-01 1.18987360e-01 6.41673866e-01\n",
      " 2.21833693e-01 6.38570805e-01 8.28522489e-01 3.25621585e-01\n",
      " 2.74023033e-01 7.74493302e-01 1.35734159e-01 5.27499577e-01\n",
      " 4.45706717e-01 5.52545255e-01 1.71948744e-01 1.56199450e-02\n",
      " 6.59407311e-01 3.06836801e-01 7.80557221e-01 8.00735448e-01\n",
      " 5.63621221e-01 7.46963671e-01 8.90148298e-02 7.16701941e-01\n",
      " 9.50018770e-01 3.10841832e-02 8.29150750e-01 6.78079588e-02\n",
      " 7.19137552e-01 1.89901194e-01 6.37482810e-01 6.70059475e-01\n",
      " 1.00271893e-01 4.56133427e-01 4.65522097e-01 6.38614103e-01\n",
      " 1.94052451e-01 8.00930652e-01 8.36847934e-01 2.75851949e-01\n",
      " 6.31604237e-01 6.62356730e-01 1.62327811e-01 8.79846965e-01\n",
      " 2.02341762e-01 5.47484663e-01 9.44770833e-01 2.71232933e-01\n",
      " 9.73470275e-01 7.45345998e-01 1.37608913e-01 6.12240157e-01\n",
      " 8.89993186e-01 3.97862557e-01 1.08582951e-01 9.62923371e-01\n",
      " 9.51067933e-01 1.07122742e-01 8.49686766e-02 6.31177860e-01\n",
      " 4.75002967e-01 2.22001502e-01 2.87988023e-01 7.05583953e-01\n",
      " 9.22648703e-01 3.16456318e-01 9.65325096e-01 4.19834635e-01\n",
      " 4.88371273e-01 3.13129954e-01 5.52625490e-01 6.04007476e-01\n",
      " 1.87617545e-02 2.81992075e-01 6.57249504e-01 4.86921238e-01\n",
      " 8.88529579e-01 3.16876255e-01 2.32933271e-01 3.08068939e-01\n",
      " 2.89779418e-01 3.56643702e-02 3.67999067e-01 7.10614248e-01\n",
      " 2.39095489e-01 7.89798753e-01 8.61605210e-02 4.95512985e-01\n",
      " 7.17116262e-01 2.02762780e-01 8.22337657e-01 5.12435406e-01\n",
      " 9.02019687e-02 7.22400482e-01 2.92748683e-01 2.39500181e-01\n",
      " 1.57544143e-01 3.45995265e-02 8.32687111e-02 5.16637864e-01\n",
      " 7.92694195e-01 9.17043401e-01 2.87645919e-02 8.95812430e-02\n",
      " 3.25809514e-01 5.58859332e-01 3.97666847e-03 8.37093946e-01\n",
      " 2.47304528e-01 2.32832071e-01 3.20461726e-01 4.51302250e-01\n",
      " 2.58517403e-01 4.20164427e-01 6.42932306e-02 7.91270012e-03\n",
      " 7.52525607e-01 5.58525326e-01 4.12237869e-02 1.87262908e-01\n",
      " 3.98262693e-01 7.04276963e-01 3.82206085e-01 3.74298993e-01\n",
      " 1.35527124e-01 8.68525070e-01 2.68829454e-01 1.69175504e-01\n",
      " 5.11707912e-01 9.59239459e-01 2.03054230e-01 9.97489432e-01\n",
      " 2.15319227e-01 2.06786243e-01 3.06496396e-01 2.15409953e-01\n",
      " 1.91871364e-01 3.49400416e-01 8.81458212e-02 2.39059387e-02\n",
      " 8.66660785e-01 1.70041826e-01 7.76380949e-01 6.82058710e-01\n",
      " 4.10642660e-01 3.98740508e-01 7.30875261e-01 9.57721560e-03\n",
      " 6.42739161e-01 6.62077708e-01 9.27697534e-02 3.83910101e-01\n",
      " 4.62099750e-01 3.94352422e-02 1.22271006e-01 1.56364956e-01\n",
      " 7.40148217e-01 4.95725719e-01 9.92704807e-01 8.91791357e-01\n",
      " 9.19224882e-01 9.48592741e-03 5.46075538e-01 3.84505233e-01\n",
      " 1.21069230e-01 5.08230768e-02 9.91098764e-01 2.79746105e-01\n",
      " 7.38952008e-01 5.20450198e-01 9.33499628e-01 4.28459930e-01\n",
      " 6.92615944e-01 7.99968849e-01 5.84568375e-01 7.19865022e-01\n",
      " 9.10238197e-01 2.19687519e-02 1.48933888e-02 7.65762556e-01\n",
      " 2.11735159e-01 3.20581791e-01 3.84589940e-01 3.40828678e-01\n",
      " 4.92433807e-01 8.87411513e-01 2.79725440e-02 4.22329874e-01\n",
      " 1.09687475e-02 3.70607527e-01 7.62267966e-01 5.33385289e-01\n",
      " 3.08845251e-01 2.07150870e-02 1.47177328e-01 2.48621751e-01\n",
      " 9.02949714e-01 8.38123898e-01 5.82027480e-01 5.24210933e-01\n",
      " 6.16151963e-02 5.03934466e-01 6.11459175e-01 2.17989519e-01\n",
      " 1.80802096e-01 3.38972939e-01 7.47113454e-01 8.75034016e-02\n",
      " 6.35525406e-01 6.22539421e-01 2.40075387e-01 3.25237900e-01\n",
      " 9.60738826e-01 7.45351316e-01 7.41495011e-01 3.86267183e-01\n",
      " 7.47806537e-01 5.80457236e-01 4.17964126e-01 6.81363555e-01\n",
      " 4.70128364e-01 5.35403737e-02 9.77763618e-01 2.42122832e-01\n",
      " 5.51850558e-01 3.77845301e-01 8.22365273e-01 7.26251238e-01\n",
      " 8.38730644e-01 3.89073708e-01 3.65299203e-03 2.48538990e-01\n",
      " 4.19203202e-01 8.78303882e-01 3.51944496e-01 4.36597561e-01\n",
      " 2.93720605e-01 5.99265354e-01 4.79643933e-01 8.24877516e-01\n",
      " 9.42449048e-01 1.47826197e-01 3.32609204e-01 5.59887252e-01\n",
      " 7.56024636e-01 9.33178666e-01 1.01036183e-01 9.54144096e-01\n",
      " 8.75769155e-01 9.96583571e-01 4.49860715e-01 3.34878568e-01\n",
      " 2.81183905e-01 3.59597181e-01 7.90626184e-01 2.51523053e-01\n",
      " 7.01935158e-01 8.32116875e-01 5.96461976e-01 2.70392893e-01\n",
      " 8.53779288e-01 1.29732751e-01 6.31621331e-01 5.21413935e-01\n",
      " 2.27247941e-01 5.47062688e-01 2.36200676e-01 6.75952649e-01\n",
      " 4.80515079e-01 6.42798499e-01 4.29258585e-01 5.57873042e-01\n",
      " 1.43696692e-01 3.50529633e-01 8.47399775e-01 8.94311428e-01\n",
      " 6.48732207e-01 3.95943920e-01 1.54536328e-01 6.11554349e-01\n",
      " 6.76916114e-01 3.72349934e-01 2.76890419e-01 9.80245000e-02\n",
      " 3.80434064e-01 3.78985964e-01 5.99121644e-01 5.50852520e-01\n",
      " 2.42858076e-01 7.00874584e-02 2.94298879e-01 5.30005646e-01\n",
      " 5.31723399e-01 7.34195959e-01 2.40933486e-01 6.79951357e-01\n",
      " 3.50099216e-01 5.59943431e-01 9.69238138e-01 7.32132132e-01\n",
      " 1.42056540e-01 3.72928681e-01 9.25966929e-01 9.22415894e-01\n",
      " 5.24197464e-01 5.60620120e-01 6.15294917e-01 3.03114306e-01\n",
      " 8.17584880e-01 8.18508476e-01 4.59335136e-01 2.96057628e-01\n",
      " 4.71374254e-01 1.85479655e-01 5.42276740e-01 1.63892971e-01\n",
      " 7.86541299e-01 8.19759219e-01 4.21730747e-01 1.60596567e-01\n",
      " 3.37304475e-01 8.87285573e-01 7.93432976e-01 1.66356821e-01\n",
      " 8.59658938e-01 8.00269172e-01 7.02005680e-01 3.41657903e-01\n",
      " 1.52148654e-01 8.85661416e-01 9.09069413e-02 4.08302847e-01\n",
      " 3.15961723e-01 3.56782079e-01 5.03511073e-01 2.66199909e-01\n",
      " 8.11041295e-01 2.02464396e-01 3.82063098e-01 6.80793566e-01\n",
      " 5.23535044e-01 7.94485236e-01 2.52432690e-01 9.57948778e-01\n",
      " 8.17003858e-01 3.17394069e-01 9.28803296e-01 4.76651320e-01\n",
      " 9.45879913e-01 5.89530660e-01 3.76168908e-01 9.95935713e-01\n",
      " 8.51537099e-01 7.36412400e-01 5.24607580e-01 3.26143465e-01\n",
      " 4.42723361e-01 7.10743123e-01 2.74321720e-01 4.44632491e-01\n",
      " 5.97567031e-01 3.82778521e-01 2.15403777e-01 6.97422819e-01\n",
      " 5.00819294e-01 2.01792084e-01 2.73832737e-02 5.04495077e-01\n",
      " 1.84383185e-01 4.44715066e-01 9.82788472e-01 5.46401682e-01\n",
      " 5.28669496e-01 6.15171969e-02 2.76625483e-01 4.61884723e-01\n",
      " 9.10418641e-01 8.66190696e-02 1.62016657e-01 8.12746744e-01\n",
      " 1.61126256e-01 3.64314586e-01 9.51595448e-01 6.86290278e-01\n",
      " 1.77598235e-01 3.03937308e-01 4.85907184e-01 3.04865562e-01\n",
      " 7.37216916e-01 5.25679571e-01 8.84770272e-01 9.00709504e-01\n",
      " 9.33507196e-01 5.11262678e-01 2.12501949e-01 6.34645457e-01\n",
      " 9.46090937e-01 5.53615173e-02 9.85738204e-01 6.22846103e-01\n",
      " 9.71731608e-01 3.96895183e-01 3.46883642e-01 4.52352277e-01\n",
      " 6.88287239e-01 5.94301549e-01 8.64075504e-01 5.44916539e-01\n",
      " 5.12063613e-01 8.70438620e-01 3.11904252e-01 5.96923758e-01\n",
      " 8.57016118e-01 8.76394191e-02 2.58012329e-01 5.88462289e-01\n",
      " 7.57086087e-02 4.83929113e-01 8.97927814e-02 8.94332071e-01\n",
      " 1.50859850e-01 3.70509583e-02 1.54933772e-01 1.76960170e-01\n",
      " 7.94596089e-02 3.30756770e-01 6.33276702e-01 2.93384968e-01\n",
      " 7.56335318e-01 6.29669796e-01 9.18003684e-01 8.24654372e-01\n",
      " 1.24518527e-01 7.97516251e-01 4.98121077e-01 2.03424701e-01\n",
      " 7.79293772e-01 3.50490449e-01 8.65381258e-01 8.89128136e-02\n",
      " 8.66384296e-01 1.68197445e-01 3.48741443e-01 9.41741576e-01\n",
      " 9.51700296e-01 3.46135253e-01 6.21261628e-01 1.47024754e-01\n",
      " 2.83956128e-01 4.88633962e-01 6.93088603e-01 3.96100489e-02\n",
      " 2.42451373e-02 2.15998741e-01 3.44906356e-01 1.96857017e-01\n",
      " 1.63644563e-01 9.27894241e-01 7.23054448e-01 4.10900780e-01\n",
      " 4.50619168e-01 4.28899216e-01 8.10943579e-01 3.43076580e-01\n",
      " 5.17494593e-03 5.44537729e-01 5.75100286e-01 8.02539331e-01\n",
      " 9.17271642e-01 3.37646281e-01 4.53642818e-01 7.89483565e-01\n",
      " 7.95489175e-01 3.59509379e-01 2.43825552e-01 6.45025887e-01\n",
      " 1.64537677e-01 2.81961790e-01 5.10824552e-01 7.09378117e-01\n",
      " 2.38072416e-01 3.32632076e-01 7.91089622e-01 4.31599321e-01\n",
      " 9.18578502e-01 3.03479495e-01 7.82562283e-01 3.73361776e-04\n",
      " 4.42778214e-01 3.91174362e-01 3.80628596e-01 5.77031993e-01\n",
      " 9.96960579e-01 7.76337197e-01 9.40663083e-02 5.05375319e-03\n",
      " 1.92830123e-01 2.03689391e-01 6.99824972e-01 1.00078879e-01\n",
      " 3.46301046e-01 5.54099706e-01 8.48061533e-01 6.13082048e-02\n",
      " 7.47061999e-01 3.29747111e-01 5.89315923e-01 6.05536150e-01]\n"
     ]
    },
    {
     "data": {
      "text/plain": [
       "<Figure size 432x288 with 0 Axes>"
      ]
     },
     "metadata": {},
     "output_type": "display_data"
    }
   ],
   "source": [
    "t = np.random.random(1000)\n",
    "thinkplot.PrePlot(2)\n",
    "print(t)"
   ]
  },
  {
   "cell_type": "markdown",
   "metadata": {},
   "source": [
    " Below code Plots pmf for 1000 random numbers generated above. The pmf is a uniform distribution because all values have the same frequency"
   ]
  },
  {
   "cell_type": "code",
   "execution_count": 76,
   "metadata": {},
   "outputs": [
    {
     "data": {
      "image/png": "[encoded data removed]",
      "text/plain": [
       "<Figure size 432x288 with 1 Axes>"
      ]
     },
     "metadata": {
      "needs_background": "light"
     },
     "output_type": "display_data"
    }
   ],
   "source": [
    "pmf = thinkstats2.Pmf(t)\n",
    "thinkplot.Pmf(pmf, linewidth=0.1)\n",
    "thinkplot.Config(xlabel='Random variate', ylabel='PMF')"
   ]
  },
  {
   "cell_type": "markdown",
   "metadata": {},
   "source": [
    " Below code Plots cdf for 1000 random numbers generated above. The cdf distribution is not uniform because all values do not have the same frequency"
   ]
  },
  {
   "cell_type": "code",
   "execution_count": 77,
   "metadata": {},
   "outputs": [
    {
     "data": {
      "image/png": "[encoded data removed]",
      "text/plain": [
       "<Figure size 432x288 with 1 Axes>"
      ]
     },
     "metadata": {
      "needs_background": "light"
     },
     "output_type": "display_data"
    },
    {
     "data": {
      "text/plain": [
       "<Figure size 576x432 with 0 Axes>"
      ]
     },
     "metadata": {},
     "output_type": "display_data"
    }
   ],
   "source": [
    "cdf = thinkstats2.Cdf(t)\n",
    "thinkplot.Cdf(cdf)\n",
    "thinkplot.Config(xlabel='Random variate', ylabel='CDF')\n",
    "thinkplot.Show()"
   ]
  },
  {
   "cell_type": "markdown",
   "metadata": {},
   "source": [
    "Please ignore the codes below!!!"
   ]
  },
  {
   "cell_type": "markdown",
   "metadata": {},
   "source": [
    "Printing the value count for pregnum (variable)\n",
    "It indicates how many times each respondent has been pregnant\n",
    "The output seems to be correct because the total of 13593 matches the total in the code book"
   ]
  },
  {
   "cell_type": "code",
   "execution_count": 239,
   "metadata": {
    "scrolled": true
   },
   "outputs": [
    {
     "data": {
      "text/plain": [
       "<bound method IndexOpsMixin.value_counts of 0        2\n",
       "1        2\n",
       "2        3\n",
       "3        3\n",
       "4        3\n",
       "        ..\n",
       "13588    5\n",
       "13589    5\n",
       "13590    5\n",
       "13591    5\n",
       "13592    5\n",
       "Name: pregnum, Length: 13593, dtype: int64>"
      ]
     },
     "execution_count": 239,
     "metadata": {},
     "output_type": "execute_result"
    }
   ],
   "source": [
    "preg.pregnum.value_counts"
   ]
  },
  {
   "cell_type": "markdown",
   "metadata": {},
   "source": [
    "The Histogram shows that most pregnancies have a length of 39 weeks. 39 weeks can therefore be used to represent the whole population because it has the highest frequency.It implies that a pregnancy duration of 39 weeks is pretty much normal.Ignoring the part of the Histogram represennting other babies and focusing on first babies.39 weeks still has the tallest bar.This means that most first babies are born at 39 weeks.Therefore the assumption that first babies arrive late is false "
   ]
  },
  {
   "cell_type": "code",
   "execution_count": 285,
   "metadata": {},
   "outputs": [
    {
     "data": {
      "image/png": "[encoded data removed]",
      "text/plain": [
       "<Figure size 432x288 with 1 Axes>"
      ]
     },
     "metadata": {
      "needs_background": "light"
     },
     "output_type": "display_data"
    },
    {
     "data": {
      "text/plain": [
       "<Figure size 576x432 with 0 Axes>"
      ]
     },
     "metadata": {},
     "output_type": "display_data"
    }
   ],
   "source": [
    "width = 0.45\n",
    "thinkplot.PrePlot(2)\n",
    "thinkplot.Hist(first_hist, align='right', width=width)\n",
    "thinkplot.Hist(other_hist, align='left', width=width)\n",
    "thinkplot.Show(xlabel='weeks', ylabel='frequency',\n",
    "xlim=[27, 46])\n"
   ]
  },
  {
   "cell_type": "markdown",
   "metadata": {},
   "source": [
    "The below code displays the pregancy length in weeks.For example 4744 pregnancies had a length of 39 weeks, 1120 pregnancies had length of 40 weeks.39 weeks has the highest value (mode) as also indicated on this Histogram above.\n"
   ]
  },
  {
   "cell_type": "code",
   "execution_count": 249,
   "metadata": {},
   "outputs": [
    {
     "data": {
      "text/plain": [
       "39    4744\n",
       "40    1120\n",
       "38     609\n",
       "9      594\n",
       "41     591\n",
       "6      543\n",
       "37     457\n",
       "13     446\n",
       "4      412\n",
       "8      409\n",
       "35     357\n",
       "36     329\n",
       "42     328\n",
       "17     253\n",
       "11     202\n",
       "30     198\n",
       "5      181\n",
       "7      175\n",
       "12     170\n",
       "3      151\n",
       "43     148\n",
       "22     147\n",
       "10     137\n",
       "32     122\n",
       "26     117\n",
       "2       78\n",
       "34      60\n",
       "33      50\n",
       "44      46\n",
       "16      44\n",
       "15      39\n",
       "28      38\n",
       "21      37\n",
       "19      34\n",
       "24      31\n",
       "31      29\n",
       "14      29\n",
       "29      23\n",
       "20      18\n",
       "18      17\n",
       "0       15\n",
       "25      15\n",
       "23      12\n",
       "45      10\n",
       "1        9\n",
       "27       8\n",
       "48       7\n",
       "50       2\n",
       "46       1\n",
       "47       1\n",
       "Name: prglngth, dtype: int64"
      ]
     },
     "execution_count": 249,
     "metadata": {},
     "output_type": "execute_result"
    }
   ],
   "source": [
    "preg.prglngth.value_counts()"
   ]
  },
  {
   "cell_type": "markdown",
   "metadata": {},
   "source": [
    "I am not sure why the below code is giving mode to be 7. I believe the mode should be 39 weeks. I ran the test mode code in the solution section and it said the assertion error"
   ]
  },
  {
   "cell_type": "code",
   "execution_count": 331,
   "metadata": {},
   "outputs": [
    {
     "name": "stdout",
     "output_type": "stream",
     "text": [
      "7.0\n"
     ]
    }
   ],
   "source": [
    "def Mode(hist):\n",
    "    \"\"\"Returns the value with the highest frequency.\n",
    "\n",
    "    hist: Hist object\n",
    "\n",
    "    returns: value from Hist\n",
    "    \"\"\"\n",
    "    p, x = max([(p, x) for x, p in hist.Items()])\n",
    "    return x\n",
    "print(mode)"
   ]
  },
  {
   "cell_type": "code",
   "execution_count": 333,
   "metadata": {},
   "outputs": [
    {
     "name": "stdout",
     "output_type": "stream",
     "text": [
      "Mode of preg length 7.0\n"
     ]
    },
    {
     "ename": "AssertionError",
     "evalue": "",
     "output_type": "error",
     "traceback": [
      "\u001b[1;31m---------------------------------------------------------------------------\u001b[0m",
      "\u001b[1;31mAssertionError\u001b[0m                            Traceback (most recent call last)",
      "\u001b[1;32m<ipython-input-333-9394d7d25aee>\u001b[0m in \u001b[0;36m<module>\u001b[1;34m\u001b[0m\n\u001b[0;32m      1\u001b[0m \u001b[0mmode\u001b[0m \u001b[1;33m=\u001b[0m \u001b[0mMode\u001b[0m\u001b[1;33m(\u001b[0m\u001b[0mhist\u001b[0m\u001b[1;33m)\u001b[0m\u001b[1;33m\u001b[0m\u001b[1;33m\u001b[0m\u001b[0m\n\u001b[0;32m      2\u001b[0m \u001b[0mprint\u001b[0m\u001b[1;33m(\u001b[0m\u001b[1;34m'Mode of preg length'\u001b[0m\u001b[1;33m,\u001b[0m \u001b[0mmode\u001b[0m\u001b[1;33m)\u001b[0m\u001b[1;33m\u001b[0m\u001b[1;33m\u001b[0m\u001b[0m\n\u001b[1;32m----> 3\u001b[1;33m \u001b[1;32massert\u001b[0m\u001b[1;33m(\u001b[0m\u001b[0mmode\u001b[0m \u001b[1;33m==\u001b[0m \u001b[1;36m39\u001b[0m\u001b[1;33m)\u001b[0m\u001b[1;33m\u001b[0m\u001b[1;33m\u001b[0m\u001b[0m\n\u001b[0m",
      "\u001b[1;31mAssertionError\u001b[0m: "
     ]
    }
   ],
   "source": [
    "mode = Mode(hist)\n",
    "print('Mode of preg length', mode)\n",
    "assert(mode == 39)"
   ]
  },
  {
   "cell_type": "markdown",
   "metadata": {},
   "source": [
    "To investigate whether first babies are lighter, we need a code that displays the weight of first babies, then we compare to the mean weight of 'not first babies (other babies).From the result of the code below, mean of first babies is 7.2 which is lesser than mean of other babies of 7.3.Therefore first babies are lighter than others"
   ]
  },
  {
   "cell_type": "code",
   "execution_count": 326,
   "metadata": {},
   "outputs": [
    {
     "name": "stdout",
     "output_type": "stream",
     "text": [
      "Mean\n",
      "First babies 7.201094430437772\n",
      "Others 7.325855614973262\n"
     ]
    }
   ],
   "source": [
    "mean0 = live.totalwgt_lb.mean()\n",
    "mean1 = firsts.totalwgt_lb.mean()\n",
    "mean2 = others.totalwgt_lb.mean()\n",
    "\n",
    "print('Mean')\n",
    "print('First babies', mean1)\n",
    "print('Others', mean2)"
   ]
  },
  {
   "cell_type": "code",
   "execution_count": 254,
   "metadata": {},
   "outputs": [
    {
     "data": {
      "text/plain": [
       "302"
      ]
     },
     "execution_count": 254,
     "metadata": {},
     "output_type": "execute_result"
    }
   ],
   "source": [
    "preg.totalwgt_lb.value_counts()[7.5] "
   ]
  },
  {
   "cell_type": "code",
   "execution_count": 255,
   "metadata": {},
   "outputs": [
    {
     "data": {
      "text/plain": [
       "7.5000     302\n",
       "7.0000     301\n",
       "7.3750     285\n",
       "8.0000     265\n",
       "7.6875     220\n",
       "          ... \n",
       "15.4375      1\n",
       "0.3125       1\n",
       "0.1250       1\n",
       "1.0000       1\n",
       "13.5000      1\n",
       "Name: totalwgt_lb, Length: 184, dtype: int64"
      ]
     },
     "execution_count": 255,
     "metadata": {},
     "output_type": "execute_result"
    }
   ],
   "source": [
    "preg.totalwgt_lb.value_counts()"
   ]
  },
  {
   "cell_type": "code",
   "execution_count": 236,
   "metadata": {},
   "outputs": [
    {
     "data": {
      "text/html": [
       "<div>\n",
       "<style scoped>\n",
       "    .dataframe tbody tr th:only-of-type {\n",
       "        vertical-align: middle;\n",
       "    }\n",
       "\n",
       "    .dataframe tbody tr th {\n",
       "        vertical-align: top;\n",
       "    }\n",
       "\n",
       "    .dataframe thead th {\n",
       "        text-align: right;\n",
       "    }\n",
       "</style>\n",
       "<table border=\"1\" class=\"dataframe\">\n",
       "  <thead>\n",
       "    <tr style=\"text-align: right;\">\n",
       "      <th></th>\n",
       "      <th>caseid</th>\n",
       "      <th>pregordr</th>\n",
       "      <th>howpreg_n</th>\n",
       "      <th>howpreg_p</th>\n",
       "      <th>moscurrp</th>\n",
       "      <th>nowprgdk</th>\n",
       "      <th>pregend1</th>\n",
       "      <th>pregend2</th>\n",
       "      <th>nbrnaliv</th>\n",
       "      <th>multbrth</th>\n",
       "      <th>...</th>\n",
       "      <th>laborfor_i</th>\n",
       "      <th>religion_i</th>\n",
       "      <th>metro_i</th>\n",
       "      <th>basewgt</th>\n",
       "      <th>adj_mod_basewgt</th>\n",
       "      <th>finalwgt</th>\n",
       "      <th>secu_p</th>\n",
       "      <th>sest</th>\n",
       "      <th>cmintvw</th>\n",
       "      <th>totalwgt_lb</th>\n",
       "    </tr>\n",
       "  </thead>\n",
       "  <tbody>\n",
       "    <tr>\n",
       "      <th>0</th>\n",
       "      <td>1</td>\n",
       "      <td>1</td>\n",
       "      <td>NaN</td>\n",
       "      <td>NaN</td>\n",
       "      <td>NaN</td>\n",
       "      <td>NaN</td>\n",
       "      <td>6.0</td>\n",
       "      <td>NaN</td>\n",
       "      <td>1.0</td>\n",
       "      <td>NaN</td>\n",
       "      <td>...</td>\n",
       "      <td>0</td>\n",
       "      <td>0</td>\n",
       "      <td>0</td>\n",
       "      <td>3410.389399</td>\n",
       "      <td>3869.349602</td>\n",
       "      <td>6448.271112</td>\n",
       "      <td>2</td>\n",
       "      <td>9</td>\n",
       "      <td>NaN</td>\n",
       "      <td>8.8125</td>\n",
       "    </tr>\n",
       "    <tr>\n",
       "      <th>1</th>\n",
       "      <td>1</td>\n",
       "      <td>2</td>\n",
       "      <td>NaN</td>\n",
       "      <td>NaN</td>\n",
       "      <td>NaN</td>\n",
       "      <td>NaN</td>\n",
       "      <td>6.0</td>\n",
       "      <td>NaN</td>\n",
       "      <td>1.0</td>\n",
       "      <td>NaN</td>\n",
       "      <td>...</td>\n",
       "      <td>0</td>\n",
       "      <td>0</td>\n",
       "      <td>0</td>\n",
       "      <td>3410.389399</td>\n",
       "      <td>3869.349602</td>\n",
       "      <td>6448.271112</td>\n",
       "      <td>2</td>\n",
       "      <td>9</td>\n",
       "      <td>NaN</td>\n",
       "      <td>7.8750</td>\n",
       "    </tr>\n",
       "    <tr>\n",
       "      <th>2</th>\n",
       "      <td>2</td>\n",
       "      <td>1</td>\n",
       "      <td>NaN</td>\n",
       "      <td>NaN</td>\n",
       "      <td>NaN</td>\n",
       "      <td>NaN</td>\n",
       "      <td>5.0</td>\n",
       "      <td>NaN</td>\n",
       "      <td>3.0</td>\n",
       "      <td>5.0</td>\n",
       "      <td>...</td>\n",
       "      <td>0</td>\n",
       "      <td>0</td>\n",
       "      <td>0</td>\n",
       "      <td>7226.301740</td>\n",
       "      <td>8567.549110</td>\n",
       "      <td>12999.542264</td>\n",
       "      <td>2</td>\n",
       "      <td>12</td>\n",
       "      <td>NaN</td>\n",
       "      <td>9.1250</td>\n",
       "    </tr>\n",
       "    <tr>\n",
       "      <th>3</th>\n",
       "      <td>2</td>\n",
       "      <td>2</td>\n",
       "      <td>NaN</td>\n",
       "      <td>NaN</td>\n",
       "      <td>NaN</td>\n",
       "      <td>NaN</td>\n",
       "      <td>6.0</td>\n",
       "      <td>NaN</td>\n",
       "      <td>1.0</td>\n",
       "      <td>NaN</td>\n",
       "      <td>...</td>\n",
       "      <td>0</td>\n",
       "      <td>0</td>\n",
       "      <td>0</td>\n",
       "      <td>7226.301740</td>\n",
       "      <td>8567.549110</td>\n",
       "      <td>12999.542264</td>\n",
       "      <td>2</td>\n",
       "      <td>12</td>\n",
       "      <td>NaN</td>\n",
       "      <td>7.0000</td>\n",
       "    </tr>\n",
       "    <tr>\n",
       "      <th>4</th>\n",
       "      <td>2</td>\n",
       "      <td>3</td>\n",
       "      <td>NaN</td>\n",
       "      <td>NaN</td>\n",
       "      <td>NaN</td>\n",
       "      <td>NaN</td>\n",
       "      <td>6.0</td>\n",
       "      <td>NaN</td>\n",
       "      <td>1.0</td>\n",
       "      <td>NaN</td>\n",
       "      <td>...</td>\n",
       "      <td>0</td>\n",
       "      <td>0</td>\n",
       "      <td>0</td>\n",
       "      <td>7226.301740</td>\n",
       "      <td>8567.549110</td>\n",
       "      <td>12999.542264</td>\n",
       "      <td>2</td>\n",
       "      <td>12</td>\n",
       "      <td>NaN</td>\n",
       "      <td>6.1875</td>\n",
       "    </tr>\n",
       "  </tbody>\n",
       "</table>\n",
       "<p>5 rows × 244 columns</p>\n",
       "</div>"
      ],
      "text/plain": [
       "   caseid  pregordr  howpreg_n  howpreg_p  moscurrp  nowprgdk  pregend1  \\\n",
       "0       1         1        NaN        NaN       NaN       NaN       6.0   \n",
       "1       1         2        NaN        NaN       NaN       NaN       6.0   \n",
       "2       2         1        NaN        NaN       NaN       NaN       5.0   \n",
       "3       2         2        NaN        NaN       NaN       NaN       6.0   \n",
       "4       2         3        NaN        NaN       NaN       NaN       6.0   \n",
       "\n",
       "   pregend2  nbrnaliv  multbrth  ...  laborfor_i  religion_i  metro_i  \\\n",
       "0       NaN       1.0       NaN  ...           0           0        0   \n",
       "1       NaN       1.0       NaN  ...           0           0        0   \n",
       "2       NaN       3.0       5.0  ...           0           0        0   \n",
       "3       NaN       1.0       NaN  ...           0           0        0   \n",
       "4       NaN       1.0       NaN  ...           0           0        0   \n",
       "\n",
       "       basewgt  adj_mod_basewgt      finalwgt  secu_p  sest  cmintvw  \\\n",
       "0  3410.389399      3869.349602   6448.271112       2     9      NaN   \n",
       "1  3410.389399      3869.349602   6448.271112       2     9      NaN   \n",
       "2  7226.301740      8567.549110  12999.542264       2    12      NaN   \n",
       "3  7226.301740      8567.549110  12999.542264       2    12      NaN   \n",
       "4  7226.301740      8567.549110  12999.542264       2    12      NaN   \n",
       "\n",
       "   totalwgt_lb  \n",
       "0       8.8125  \n",
       "1       7.8750  \n",
       "2       9.1250  \n",
       "3       7.0000  \n",
       "4       6.1875  \n",
       "\n",
       "[5 rows x 244 columns]"
      ]
     },
     "execution_count": 236,
     "metadata": {},
     "output_type": "execute_result"
    }
   ],
   "source": [
    "# Printing column names\n",
    "preg = nsfg.ReadFemPreg()\n",
    "preg.head()"
   ]
  },
  {
   "cell_type": "code",
   "execution_count": 335,
   "metadata": {},
   "outputs": [
    {
     "data": {
      "text/plain": [
       "5033"
      ]
     },
     "execution_count": 335,
     "metadata": {},
     "output_type": "execute_result"
    }
   ],
   "source": [
    "# Number of records with a 1st pregnancy count\n",
    "preg.pregordr.value_counts()[1]"
   ]
  },
  {
   "cell_type": "code",
   "execution_count": 336,
   "metadata": {},
   "outputs": [
    {
     "data": {
      "text/plain": [
       "1     5033\n",
       "2     3766\n",
       "3     2334\n",
       "4     1224\n",
       "5      613\n",
       "6      308\n",
       "7      158\n",
       "8       78\n",
       "9       38\n",
       "10      17\n",
       "11       8\n",
       "12       5\n",
       "13       3\n",
       "14       3\n",
       "18       1\n",
       "19       1\n",
       "17       1\n",
       "16       1\n",
       "15       1\n",
       "Name: pregordr, dtype: int64"
      ]
     },
     "execution_count": 336,
     "metadata": {},
     "output_type": "execute_result"
    }
   ],
   "source": [
    "preg.pregordr.value_counts()"
   ]
  },
  {
   "cell_type": "code",
   "execution_count": 232,
   "metadata": {},
   "outputs": [],
   "source": [
    "# A function that reads 2002FemResp.dat.gz\n",
    "import numpy as np\n",
    "import sys\n",
    "import nsfg\n",
    "import thinkstats2\n",
    "def ReadFemResp(dct_file='2002FemResp.dct',\n",
    "                dat_file='2002FemResp.dat.gz',\n",
    "                nrows=None):\n",
    "    \n",
    "    dct = thinkstats2.ReadStataDct(dct_file)\n",
    "    df = dct.ReadFixedWidth(dat_file, compression='gzip', nrows=nrows)\n",
    "    #CleanFemResp(df)\n",
    "    return df"
   ]
  },
  {
   "cell_type": "code",
   "execution_count": 202,
   "metadata": {},
   "outputs": [],
   "source": [
    "def CleanFemResp(df):\n",
    "    \"\"\"Recodes variables from the respondent frame.\n",
    "\n",
    "    df: DataFrame\n",
    "    \"\"\"\n",
    "    pass\n",
    "\n",
    "\n",
    "def ValidatePregnum(resp):\n",
    "    \"\"\"Validate pregnum in the respondent file.\n",
    "\n",
    "    resp: respondent DataFrame\n",
    "    \"\"\"\n",
    "    # read the pregnancy frame\n",
    "    preg = nsfg.ReadFemPreg()\n",
    "\n",
    "    # make the map from caseid to list of pregnancy indices\n",
    "    preg_map = nsfg.MakePregMap(preg)\n",
    "    \n",
    "    # iterate through the respondent pregnum series\n",
    "    for index, pregnum in resp.pregnum.items():\n",
    "        caseid = resp.caseid[index]\n",
    "        indices = preg_map[caseid]\n",
    "\n",
    "        # check that pregnum from the respondent file equals\n",
    "        # the number of records in the pregnancy file\n",
    "        if len(indices) != pregnum:\n",
    "            print(caseid, len(indices), pregnum)\n",
    "            return False\n",
    "\n",
    "    return True\n"
   ]
  },
  {
   "cell_type": "code",
   "execution_count": 212,
   "metadata": {},
   "outputs": [],
   "source": [
    "def main(script):\n",
    "    \"\"\"Tests the functions in this module.\n",
    "\n",
    "    script: string script name\n",
    "    \"\"\"\n",
    "    resp = ReadFemResp()\n",
    "\n",
    "    assert(len(resp) == 7643)\n",
    "    assert(resp.pregnum.value_counts()[1] == 1267)\n",
    "    assert(ValidatePregnum(resp))\n",
    "\n",
    "    print('%s: All tests passed.' % script)\n"
   ]
  },
  {
   "cell_type": "code",
   "execution_count": 204,
   "metadata": {},
   "outputs": [
    {
     "name": "stdout",
     "output_type": "stream",
     "text": [
      "(13593, 244)\n",
      "All tests passed.\n"
     ]
    }
   ],
   "source": [
    "\"\"\"This file contains code for use with \"Think Stats\",\n",
    "by Allen B. Downey, available from greenteapress.com\n",
    "\n",
    "Copyright 2010 Allen B. Downey\n",
    "License: GNU GPLv3 http://www.gnu.org/licenses/gpl.html\n",
    "\"\"\"\n",
    "\n",
    "from __future__ import print_function, division\n",
    "\n",
    "import sys\n",
    "import numpy as np\n",
    "import thinkstats2\n",
    "\n",
    "from collections import defaultdict\n",
    "\n",
    "\n",
    "def ReadFemResp(dct_file='2002FemResp.dct',\n",
    "                dat_file='2002FemResp.dat.gz',\n",
    "                nrows=None):\n",
    "    \"\"\"Reads the NSFG respondent data.\n",
    "\n",
    "    dct_file: string file name\n",
    "    dat_file: string file name\n",
    "\n",
    "    returns: DataFrame\n",
    "    \"\"\"\n",
    "    dct = thinkstats2.ReadStataDct(dct_file)\n",
    "    df = dct.ReadFixedWidth(dat_file, compression='gzip', nrows=nrows)\n",
    "    CleanFemResp(df)\n",
    "    return df\n",
    "\n",
    "\n",
    "def CleanFemResp(df):\n",
    "    \"\"\"Recodes variables from the respondent frame.\n",
    "\n",
    "    df: DataFrame\n",
    "    \"\"\"\n",
    "    pass\n",
    "\n",
    "\n",
    "def ReadFemPreg(dct_file='2002FemPreg.dct',\n",
    "                dat_file='2002FemPreg.dat.gz'):\n",
    "    \"\"\"Reads the NSFG pregnancy data.\n",
    "\n",
    "    dct_file: string file name\n",
    "    dat_file: string file name\n",
    "\n",
    "    returns: DataFrame\n",
    "    \"\"\"\n",
    "    dct = thinkstats2.ReadStataDct(dct_file)\n",
    "    df = dct.ReadFixedWidth(dat_file, compression='gzip')\n",
    "    CleanFemPreg(df)\n",
    "    return df\n",
    "\n",
    "\n",
    "def CleanFemPreg(df):\n",
    "    \"\"\"Recodes variables from the pregnancy frame.\n",
    "\n",
    "    df: DataFrame\n",
    "    \"\"\"\n",
    "    # mother's age is encoded in centiyears; convert to years\n",
    "    df.agepreg /= 100.0\n",
    "\n",
    "    # birthwgt_lb contains at least one bogus value (51 lbs)\n",
    "    # replace with NaN\n",
    "    df.loc[df.birthwgt_lb > 20, 'birthwgt_lb'] = np.nan\n",
    "    \n",
    "    # replace 'not ascertained', 'refused', 'don't know' with NaN\n",
    "    na_vals = [97, 98, 99]\n",
    "    df.birthwgt_lb.replace(na_vals, np.nan, inplace=True)\n",
    "    df.birthwgt_oz.replace(na_vals, np.nan, inplace=True)\n",
    "    df.hpagelb.replace(na_vals, np.nan, inplace=True)\n",
    "\n",
    "    df.babysex.replace([7, 9], np.nan, inplace=True)\n",
    "    df.nbrnaliv.replace([9], np.nan, inplace=True)\n",
    "\n",
    "    # birthweight is stored in two columns, lbs and oz.\n",
    "    # convert to a single column in lb\n",
    "    # NOTE: creating a new column requires dictionary syntax,\n",
    "    # not attribute assignment (like df.totalwgt_lb)\n",
    "    df['totalwgt_lb'] = df.birthwgt_lb + df.birthwgt_oz / 16.0    \n",
    "\n",
    "    # due to a bug in ReadStataDct, the last variable gets clipped;\n",
    "    # so for now set it to NaN\n",
    "    df.cmintvw = np.nan\n",
    "\n",
    "\n",
    "def ValidatePregnum(resp, preg):\n",
    "    \"\"\"Validate pregnum in the respondent file.\n",
    "\n",
    "    resp: respondent DataFrame\n",
    "    preg: pregnancy DataFrame\n",
    "    \"\"\"\n",
    "    # make the map from caseid to list of pregnancy indices\n",
    "    preg_map = MakePregMap(preg)\n",
    "    \n",
    "    # iterate through the respondent pregnum series\n",
    "    for index, pregnum in resp.pregnum.iteritems():\n",
    "        caseid = resp.caseid[index]\n",
    "        indices = preg_map[caseid]\n",
    "\n",
    "        # check that pregnum from the respondent file equals\n",
    "        # the number of records in the pregnancy file\n",
    "        if len(indices) != pregnum:\n",
    "            print(caseid, len(indices), pregnum)\n",
    "            return False\n",
    "\n",
    "    return True\n",
    "\n",
    "\n",
    "def MakePregMap(df):\n",
    "    \"\"\"Make a map from caseid to list of preg indices.\n",
    "\n",
    "    df: DataFrame\n",
    "\n",
    "    returns: dict that maps from caseid to list of indices into `preg`\n",
    "    \"\"\"\n",
    "    d = defaultdict(list)\n",
    "    for index, caseid in df.caseid.iteritems():\n",
    "        d[caseid].append(index)\n",
    "    return d\n",
    "\n",
    "def main():\n",
    "\n",
    "    \"\"\"Tests the functions in this module.\n",
    "\n",
    "    script: string script name\n",
    "    \"\"\"\n",
    "    # read and validate the respondent file\n",
    "    resp = ReadFemResp()\n",
    "\n",
    "    assert(len(resp) == 7643)\n",
    "    assert(resp.pregnum.value_counts()[1] == 1267)\n",
    "\n",
    "    # read and validate the pregnancy file\n",
    "    preg = ReadFemPreg()\n",
    "    print(preg.shape)\n",
    "\n",
    "    assert len(preg) == 13593\n",
    "    assert preg.caseid[13592] == 12571\n",
    "    assert preg.pregordr.value_counts()[1] == 5033\n",
    "    assert preg.nbrnaliv.value_counts()[1] == 8981\n",
    "    assert preg.babysex.value_counts()[1] == 4641\n",
    "    assert preg.birthwgt_lb.value_counts()[7] == 3049\n",
    "    assert preg.birthwgt_oz.value_counts()[0] == 1037\n",
    "    assert preg.prglngth.value_counts()[39] == 4744\n",
    "    assert preg.outcome.value_counts()[1] == 9148\n",
    "    assert preg.birthord.value_counts()[1] == 4413\n",
    "    assert preg.agepreg.value_counts()[22.75] == 100\n",
    "    assert preg.totalwgt_lb.value_counts()[7.5] == 302\n",
    "\n",
    "    weights = preg.finalwgt.value_counts()\n",
    "    key = max(weights.keys())\n",
    "    assert preg.finalwgt.value_counts()[key] == 6\n",
    "\n",
    "    # validate that the pregnum column in `resp` matches the number\n",
    "    # of entries in `preg`\n",
    "    assert(ValidatePregnum(resp, preg))\n",
    "\n",
    "    \n",
    "    print('All tests passed.')\n",
    "\n",
    "\n",
    "if __name__ == '__main__':\n",
    "    main()"
   ]
  },
  {
   "cell_type": "code",
   "execution_count": 48,
   "metadata": {},
   "outputs": [
    {
     "name": "stdout",
     "output_type": "stream",
     "text": [
      "      caseid  rscrinf  rdormres  rostscrn  rscreenhisp  rscreenrace  age_a  \\\n",
      "0       2298        1         5         5            1          5.0     27   \n",
      "1       5012        1         5         1            5          5.0     42   \n",
      "2      11586        1         5         1            5          5.0     43   \n",
      "3       6794        5         5         4            1          5.0     15   \n",
      "4        616        1         5         4            1          5.0     20   \n",
      "...      ...      ...       ...       ...          ...          ...    ...   \n",
      "7638   11018        1         5         2            5          3.0     34   \n",
      "7639    6075        5         5         3            5          3.0     17   \n",
      "7640    5649        1         5         2            5          5.0     29   \n",
      "7641     501        5         5         3            5          2.0     16   \n",
      "7642   10252        1         5         2            5          2.0     28   \n",
      "\n",
      "      age_r  cmbirth  agescrn  ...  pubassis_i      basewgt  adj_mod_basewgt  \\\n",
      "0        27      902       27  ...           0  3247.916977      5123.759559   \n",
      "1        42      718       42  ...           0  2335.279149      2846.799490   \n",
      "2        43      708       43  ...           0  2335.279149      2846.799490   \n",
      "3        15     1042       15  ...           0  3783.152221      5071.464231   \n",
      "4        20      991       20  ...           0  5341.329968      6437.335772   \n",
      "...     ...      ...      ...  ...         ...          ...              ...   \n",
      "7638     34      811       34  ...           0  3247.445399      3784.333145   \n",
      "7639     17     1014       17  ...           0  2273.211779      2497.234491   \n",
      "7640     29      873       29  ...           0  3247.445399      3569.313710   \n",
      "7641     16     1034       16  ...           0  5304.160818      5954.644352   \n",
      "7642     28      889       28  ...           0  3247.445399      3476.637428   \n",
      "\n",
      "          finalwgt  secu_r  sest  cmintvw  cmlstyr  screentime   intvlngth  \n",
      "0      5556.717241       2    18     1234     1222    18:26:36  110.492667  \n",
      "1      4744.191350       2    18     1233     1221    16:30:59   64.294000  \n",
      "2      4744.191350       2    18     1234     1222    18:19:09   75.149167  \n",
      "3      5923.977368       2    18     1234     1222    15:54:43   28.642833  \n",
      "4      7229.128072       2    18     1233     1221    14:19:44   69.502667  \n",
      "...            ...     ...   ...      ...      ...         ...         ...  \n",
      "7638   6565.818007       2    76     1228     1216    15:57:38   82.907333  \n",
      "7639   4392.385746       2    76     1228     1216    18:23:53   54.044833  \n",
      "7640   6003.228729       2    76     1228     1216    18:42:41   68.168000  \n",
      "7641  10473.623950       2    76     1228     1216    16:02:45   32.717333  \n",
      "7642   5847.356491       2    76     1230     1218    12:45:19   74.061500  \n",
      "\n",
      "[7643 rows x 3087 columns]\n"
     ]
    }
   ],
   "source": [
    "#Displaying dataframe\n",
    "def main():\n",
    "    resp = ReadFemResp()\n",
    "    print(resp)\n",
    "main()"
   ]
  },
  {
   "cell_type": "code",
   "execution_count": 22,
   "metadata": {},
   "outputs": [
    {
     "data": {
      "text/plain": [
       "Index(['caseid', 'pregordr', 'howpreg_n', 'howpreg_p', 'moscurrp', 'nowprgdk',\n",
       "       'pregend1', 'pregend2', 'nbrnaliv', 'multbrth',\n",
       "       ...\n",
       "       'laborfor_i', 'religion_i', 'metro_i', 'basewgt', 'adj_mod_basewgt',\n",
       "       'finalwgt', 'secu_p', 'sest', 'cmintvw', 'totalwgt_lb'],\n",
       "      dtype='object', length=244)"
      ]
     },
     "execution_count": 22,
     "metadata": {},
     "output_type": "execute_result"
    }
   ],
   "source": [
    "#printing column names\n",
    "preg.columns"
   ]
  },
  {
   "cell_type": "code",
   "execution_count": 21,
   "metadata": {},
   "outputs": [
    {
     "data": {
      "text/plain": [
       "'pregordr'"
      ]
     },
     "execution_count": 21,
     "metadata": {},
     "output_type": "execute_result"
    }
   ],
   "source": [
    "#Selecting a single column name\n",
    "preg.columns[1]"
   ]
  },
  {
   "cell_type": "code",
   "execution_count": 23,
   "metadata": {},
   "outputs": [
    {
     "data": {
      "text/plain": [
       "pandas.core.series.Series"
      ]
     },
     "execution_count": 23,
     "metadata": {},
     "output_type": "execute_result"
    }
   ],
   "source": [
    "#Selecting a column and check what type it is\n",
    "pregordr = preg['pregordr']\n",
    "type(pregordr)"
   ]
  },
  {
   "cell_type": "code",
   "execution_count": 24,
   "metadata": {},
   "outputs": [
    {
     "data": {
      "text/plain": [
       "0        1\n",
       "1        2\n",
       "2        1\n",
       "3        2\n",
       "4        3\n",
       "        ..\n",
       "13588    1\n",
       "13589    2\n",
       "13590    3\n",
       "13591    4\n",
       "13592    5\n",
       "Name: pregordr, Length: 13593, dtype: int64"
      ]
     },
     "execution_count": 24,
     "metadata": {},
     "output_type": "execute_result"
    }
   ],
   "source": [
    "#Printing a column\n",
    "pregordr"
   ]
  },
  {
   "cell_type": "code",
   "execution_count": 26,
   "metadata": {},
   "outputs": [
    {
     "data": {
      "text/plain": [
       "1"
      ]
     },
     "execution_count": 26,
     "metadata": {},
     "output_type": "execute_result"
    }
   ],
   "source": [
    "#Selecting a single element from the column\n",
    "pregordr[0]"
   ]
  },
  {
   "cell_type": "code",
   "execution_count": 27,
   "metadata": {},
   "outputs": [
    {
     "data": {
      "text/plain": [
       "2    1\n",
       "3    2\n",
       "4    3\n",
       "Name: pregordr, dtype: int64"
      ]
     },
     "execution_count": 27,
     "metadata": {},
     "output_type": "execute_result"
    }
   ],
   "source": [
    "#Selecting a slice from a column\n",
    "pregordr[2:5]"
   ]
  },
  {
   "cell_type": "code",
   "execution_count": 28,
   "metadata": {},
   "outputs": [],
   "source": [
    "#Selecting a column using dot notation\n",
    "pregordr = preg.pregordr"
   ]
  },
  {
   "cell_type": "code",
   "execution_count": 29,
   "metadata": {},
   "outputs": [
    {
     "data": {
      "text/plain": [
       "1    9148\n",
       "2    1862\n",
       "3     120\n",
       "4    1921\n",
       "5     190\n",
       "6     352\n",
       "Name: outcome, dtype: int64"
      ]
     },
     "execution_count": 29,
     "metadata": {},
     "output_type": "execute_result"
    }
   ],
   "source": [
    "#Counting the number of times each value occurs\n",
    "preg.outcome.value_counts().sort_index()"
   ]
  },
  {
   "cell_type": "code",
   "execution_count": 159,
   "metadata": {},
   "outputs": [],
   "source": [
    "df.loc[df.birthwgt_lb > 20, 'birthwgt_lb'] = np.nan"
   ]
  },
  {
   "cell_type": "code",
   "execution_count": 165,
   "metadata": {},
   "outputs": [],
   "source": []
  },
  {
   "cell_type": "code",
   "execution_count": 166,
   "metadata": {},
   "outputs": [
    {
     "data": {
      "text/plain": [
       "0.0        8\n",
       "1.0       40\n",
       "2.0       53\n",
       "3.0       98\n",
       "4.0      229\n",
       "5.0      697\n",
       "6.0     2223\n",
       "7.0     3049\n",
       "8.0     1889\n",
       "9.0      623\n",
       "10.0     132\n",
       "11.0      26\n",
       "12.0      10\n",
       "13.0       3\n",
       "14.0       3\n",
       "15.0       1\n",
       "Name: birthwgt_lb, dtype: int64"
      ]
     },
     "execution_count": 166,
     "metadata": {},
     "output_type": "execute_result"
    }
   ],
   "source": [
    "#Checking the values of another variable\n",
    "preg.birthwgt_lb.value_counts().sort_index()"
   ]
  },
  {
   "cell_type": "code",
   "execution_count": 31,
   "metadata": {},
   "outputs": [
    {
     "data": {
      "text/plain": [
       "array([4, 4, 4, 4, 4, 4, 1], dtype=int64)"
      ]
     },
     "execution_count": 31,
     "metadata": {},
     "output_type": "execute_result"
    }
   ],
   "source": [
    "#Making a dictionary that maps from each respondent's caseid \n",
    "#to a list of indices into the pregnancy DataFrame. \n",
    "#Use it to select the pregnancy outcomes for a single respondent.\n",
    "caseid = 10229\n",
    "preg_map = nsfg.MakePregMap(preg)\n",
    "indices = preg_map[caseid]\n",
    "preg.outcome[indices].values"
   ]
  },
  {
   "cell_type": "code",
   "execution_count": 54,
   "metadata": {},
   "outputs": [],
   "source": [
    "def main():\n",
    "     # Tests the all the functions in this module.\n",
    "    resp = ReadFemResp()\n",
    "    assert(len(resp) == 7643)\n",
    "    assert(resp.pregnum.value_counts()[1] == 1267)\n",
    "    assert(ValidatePregnum(resp))\n",
    "    print('All tests passed.')"
   ]
  },
  {
   "cell_type": "code",
   "execution_count": 80,
   "metadata": {},
   "outputs": [
    {
     "name": "stdout",
     "output_type": "stream",
     "text": [
      "0        1.0\n",
      "1        2.0\n",
      "2        1.0\n",
      "3        2.0\n",
      "4        3.0\n",
      "        ... \n",
      "13588    1.0\n",
      "13589    NaN\n",
      "13590    NaN\n",
      "13591    2.0\n",
      "13592    3.0\n",
      "Name: birthord, Length: 13593, dtype: float64\n"
     ]
    }
   ],
   "source": [
    "#Selecting the birthord column and printing the value count\n",
    "#The total of 13593 is the same as the total provided in the codebook\n",
    "birthord = preg['birthord']\n",
    "type(birthord)\n",
    "print(birthord)\n",
    "\n",
    "#The first respondent had 1 child, the 2nd had 2 children, the 3rd had 1 child,....respondent 13592 had 3 children"
   ]
  },
  {
   "cell_type": "code",
   "execution_count": 90,
   "metadata": {},
   "outputs": [
    {
     "name": "stdout",
     "output_type": "stream",
     "text": [
      "0        39\n",
      "1        39\n",
      "2        39\n",
      "3        39\n",
      "4        39\n",
      "         ..\n",
      "13588    39\n",
      "13589     6\n",
      "13590     5\n",
      "13591    39\n",
      "13592    39\n",
      "Name: prglngth, Length: 13593, dtype: int64\n"
     ]
    }
   ],
   "source": [
    "#Selecting the `prglngth` column and printing the value counts\n",
    "prglngth = preg['prglngth']\n",
    "type(prglngth)\n",
    "print(prglngth)"
   ]
  },
  {
   "cell_type": "code",
   "execution_count": 95,
   "metadata": {},
   "outputs": [
    {
     "data": {
      "text/plain": [
       "7.265628457623368"
      ]
     },
     "execution_count": 95,
     "metadata": {},
     "output_type": "execute_result"
    }
   ],
   "source": [
    "#computing mean of birthweight in pounds\n",
    "preg.totalwgt_lb.mean()"
   ]
  },
  {
   "cell_type": "code",
   "execution_count": 150,
   "metadata": {},
   "outputs": [],
   "source": [
    "#Creating a new column totalwgt_kg\n",
    "def CleanFemPreg(df):\n",
    "    df.agepreg /= 100.0\n",
    "na_vals = [97, 98, 99]\n",
    "df.birthwgt_lb.replace(na_vals, np.nan, inplace=True)\n",
    "df.birthwgt_oz.replace(na_vals, np.nan, inplace=True)\n",
    "df['totalwgt_lb'] = df.birthwgt_lb + df.birthwgt_oz / 16\n",
    "#The last line of this code above creates a new column totalwgt_lb"
   ]
  },
  {
   "cell_type": "code",
   "execution_count": null,
   "metadata": {},
   "outputs": [],
   "source": []
  },
  {
   "cell_type": "code",
   "execution_count": 145,
   "metadata": {},
   "outputs": [],
   "source": [
    "df['totalwgt_lb'] = df.birthwgt_lb + df.birthwgt_oz / 16.0\n",
    "\n"
   ]
  },
  {
   "cell_type": "code",
   "execution_count": null,
   "metadata": {},
   "outputs": [],
   "source": []
  },
  {
   "cell_type": "code",
   "execution_count": null,
   "metadata": {},
   "outputs": [],
   "source": []
  },
  {
   "cell_type": "code",
   "execution_count": 83,
   "metadata": {},
   "outputs": [
    {
     "data": {
      "text/plain": [
       "4445"
      ]
     },
     "execution_count": 83,
     "metadata": {},
     "output_type": "execute_result"
    }
   ],
   "source": [
    "#Using isnull to count the number of nans.\n",
    "preg.birthord.isnull().sum()"
   ]
  },
  {
   "cell_type": "code",
   "execution_count": 69,
   "metadata": {},
   "outputs": [
    {
     "data": {
      "text/html": [
       "<div>\n",
       "<style scoped>\n",
       "    .dataframe tbody tr th:only-of-type {\n",
       "        vertical-align: middle;\n",
       "    }\n",
       "\n",
       "    .dataframe tbody tr th {\n",
       "        vertical-align: top;\n",
       "    }\n",
       "\n",
       "    .dataframe thead th {\n",
       "        text-align: right;\n",
       "    }\n",
       "</style>\n",
       "<table border=\"1\" class=\"dataframe\">\n",
       "  <thead>\n",
       "    <tr style=\"text-align: right;\">\n",
       "      <th></th>\n",
       "      <th>caseid</th>\n",
       "      <th>pregordr</th>\n",
       "      <th>howpreg_n</th>\n",
       "      <th>howpreg_p</th>\n",
       "      <th>moscurrp</th>\n",
       "      <th>nowprgdk</th>\n",
       "      <th>pregend1</th>\n",
       "      <th>pregend2</th>\n",
       "      <th>nbrnaliv</th>\n",
       "      <th>multbrth</th>\n",
       "      <th>...</th>\n",
       "      <th>laborfor_i</th>\n",
       "      <th>religion_i</th>\n",
       "      <th>metro_i</th>\n",
       "      <th>basewgt</th>\n",
       "      <th>adj_mod_basewgt</th>\n",
       "      <th>finalwgt</th>\n",
       "      <th>secu_p</th>\n",
       "      <th>sest</th>\n",
       "      <th>cmintvw</th>\n",
       "      <th>totalwgt_lb</th>\n",
       "    </tr>\n",
       "  </thead>\n",
       "  <tbody>\n",
       "    <tr>\n",
       "      <th>0</th>\n",
       "      <td>1</td>\n",
       "      <td>1</td>\n",
       "      <td>NaN</td>\n",
       "      <td>NaN</td>\n",
       "      <td>NaN</td>\n",
       "      <td>NaN</td>\n",
       "      <td>6.0</td>\n",
       "      <td>NaN</td>\n",
       "      <td>1.0</td>\n",
       "      <td>NaN</td>\n",
       "      <td>...</td>\n",
       "      <td>0</td>\n",
       "      <td>0</td>\n",
       "      <td>0</td>\n",
       "      <td>3410.389399</td>\n",
       "      <td>3869.349602</td>\n",
       "      <td>6448.271112</td>\n",
       "      <td>2</td>\n",
       "      <td>9</td>\n",
       "      <td>NaN</td>\n",
       "      <td>8.8125</td>\n",
       "    </tr>\n",
       "    <tr>\n",
       "      <th>1</th>\n",
       "      <td>1</td>\n",
       "      <td>2</td>\n",
       "      <td>NaN</td>\n",
       "      <td>NaN</td>\n",
       "      <td>NaN</td>\n",
       "      <td>NaN</td>\n",
       "      <td>6.0</td>\n",
       "      <td>NaN</td>\n",
       "      <td>1.0</td>\n",
       "      <td>NaN</td>\n",
       "      <td>...</td>\n",
       "      <td>0</td>\n",
       "      <td>0</td>\n",
       "      <td>0</td>\n",
       "      <td>3410.389399</td>\n",
       "      <td>3869.349602</td>\n",
       "      <td>6448.271112</td>\n",
       "      <td>2</td>\n",
       "      <td>9</td>\n",
       "      <td>NaN</td>\n",
       "      <td>7.8750</td>\n",
       "    </tr>\n",
       "    <tr>\n",
       "      <th>2</th>\n",
       "      <td>2</td>\n",
       "      <td>1</td>\n",
       "      <td>NaN</td>\n",
       "      <td>NaN</td>\n",
       "      <td>NaN</td>\n",
       "      <td>NaN</td>\n",
       "      <td>5.0</td>\n",
       "      <td>NaN</td>\n",
       "      <td>3.0</td>\n",
       "      <td>5.0</td>\n",
       "      <td>...</td>\n",
       "      <td>0</td>\n",
       "      <td>0</td>\n",
       "      <td>0</td>\n",
       "      <td>7226.301740</td>\n",
       "      <td>8567.549110</td>\n",
       "      <td>12999.542264</td>\n",
       "      <td>2</td>\n",
       "      <td>12</td>\n",
       "      <td>NaN</td>\n",
       "      <td>9.1250</td>\n",
       "    </tr>\n",
       "    <tr>\n",
       "      <th>3</th>\n",
       "      <td>2</td>\n",
       "      <td>2</td>\n",
       "      <td>NaN</td>\n",
       "      <td>NaN</td>\n",
       "      <td>NaN</td>\n",
       "      <td>NaN</td>\n",
       "      <td>6.0</td>\n",
       "      <td>NaN</td>\n",
       "      <td>1.0</td>\n",
       "      <td>NaN</td>\n",
       "      <td>...</td>\n",
       "      <td>0</td>\n",
       "      <td>0</td>\n",
       "      <td>0</td>\n",
       "      <td>7226.301740</td>\n",
       "      <td>8567.549110</td>\n",
       "      <td>12999.542264</td>\n",
       "      <td>2</td>\n",
       "      <td>12</td>\n",
       "      <td>NaN</td>\n",
       "      <td>7.0000</td>\n",
       "    </tr>\n",
       "    <tr>\n",
       "      <th>4</th>\n",
       "      <td>2</td>\n",
       "      <td>3</td>\n",
       "      <td>NaN</td>\n",
       "      <td>NaN</td>\n",
       "      <td>NaN</td>\n",
       "      <td>NaN</td>\n",
       "      <td>6.0</td>\n",
       "      <td>NaN</td>\n",
       "      <td>1.0</td>\n",
       "      <td>NaN</td>\n",
       "      <td>...</td>\n",
       "      <td>0</td>\n",
       "      <td>0</td>\n",
       "      <td>0</td>\n",
       "      <td>7226.301740</td>\n",
       "      <td>8567.549110</td>\n",
       "      <td>12999.542264</td>\n",
       "      <td>2</td>\n",
       "      <td>12</td>\n",
       "      <td>NaN</td>\n",
       "      <td>6.1875</td>\n",
       "    </tr>\n",
       "    <tr>\n",
       "      <th>...</th>\n",
       "      <td>...</td>\n",
       "      <td>...</td>\n",
       "      <td>...</td>\n",
       "      <td>...</td>\n",
       "      <td>...</td>\n",
       "      <td>...</td>\n",
       "      <td>...</td>\n",
       "      <td>...</td>\n",
       "      <td>...</td>\n",
       "      <td>...</td>\n",
       "      <td>...</td>\n",
       "      <td>...</td>\n",
       "      <td>...</td>\n",
       "      <td>...</td>\n",
       "      <td>...</td>\n",
       "      <td>...</td>\n",
       "      <td>...</td>\n",
       "      <td>...</td>\n",
       "      <td>...</td>\n",
       "      <td>...</td>\n",
       "      <td>...</td>\n",
       "    </tr>\n",
       "    <tr>\n",
       "      <th>13588</th>\n",
       "      <td>12571</td>\n",
       "      <td>1</td>\n",
       "      <td>NaN</td>\n",
       "      <td>NaN</td>\n",
       "      <td>NaN</td>\n",
       "      <td>NaN</td>\n",
       "      <td>6.0</td>\n",
       "      <td>NaN</td>\n",
       "      <td>1.0</td>\n",
       "      <td>NaN</td>\n",
       "      <td>...</td>\n",
       "      <td>0</td>\n",
       "      <td>0</td>\n",
       "      <td>0</td>\n",
       "      <td>4670.540953</td>\n",
       "      <td>5795.692880</td>\n",
       "      <td>6269.200989</td>\n",
       "      <td>1</td>\n",
       "      <td>78</td>\n",
       "      <td>NaN</td>\n",
       "      <td>6.1875</td>\n",
       "    </tr>\n",
       "    <tr>\n",
       "      <th>13589</th>\n",
       "      <td>12571</td>\n",
       "      <td>2</td>\n",
       "      <td>NaN</td>\n",
       "      <td>NaN</td>\n",
       "      <td>NaN</td>\n",
       "      <td>NaN</td>\n",
       "      <td>3.0</td>\n",
       "      <td>NaN</td>\n",
       "      <td>NaN</td>\n",
       "      <td>NaN</td>\n",
       "      <td>...</td>\n",
       "      <td>0</td>\n",
       "      <td>0</td>\n",
       "      <td>0</td>\n",
       "      <td>4670.540953</td>\n",
       "      <td>5795.692880</td>\n",
       "      <td>6269.200989</td>\n",
       "      <td>1</td>\n",
       "      <td>78</td>\n",
       "      <td>NaN</td>\n",
       "      <td>NaN</td>\n",
       "    </tr>\n",
       "    <tr>\n",
       "      <th>13590</th>\n",
       "      <td>12571</td>\n",
       "      <td>3</td>\n",
       "      <td>NaN</td>\n",
       "      <td>NaN</td>\n",
       "      <td>NaN</td>\n",
       "      <td>NaN</td>\n",
       "      <td>3.0</td>\n",
       "      <td>NaN</td>\n",
       "      <td>NaN</td>\n",
       "      <td>NaN</td>\n",
       "      <td>...</td>\n",
       "      <td>0</td>\n",
       "      <td>0</td>\n",
       "      <td>0</td>\n",
       "      <td>4670.540953</td>\n",
       "      <td>5795.692880</td>\n",
       "      <td>6269.200989</td>\n",
       "      <td>1</td>\n",
       "      <td>78</td>\n",
       "      <td>NaN</td>\n",
       "      <td>NaN</td>\n",
       "    </tr>\n",
       "    <tr>\n",
       "      <th>13591</th>\n",
       "      <td>12571</td>\n",
       "      <td>4</td>\n",
       "      <td>NaN</td>\n",
       "      <td>NaN</td>\n",
       "      <td>NaN</td>\n",
       "      <td>NaN</td>\n",
       "      <td>6.0</td>\n",
       "      <td>NaN</td>\n",
       "      <td>1.0</td>\n",
       "      <td>NaN</td>\n",
       "      <td>...</td>\n",
       "      <td>0</td>\n",
       "      <td>0</td>\n",
       "      <td>0</td>\n",
       "      <td>4670.540953</td>\n",
       "      <td>5795.692880</td>\n",
       "      <td>6269.200989</td>\n",
       "      <td>1</td>\n",
       "      <td>78</td>\n",
       "      <td>NaN</td>\n",
       "      <td>7.5000</td>\n",
       "    </tr>\n",
       "    <tr>\n",
       "      <th>13592</th>\n",
       "      <td>12571</td>\n",
       "      <td>5</td>\n",
       "      <td>NaN</td>\n",
       "      <td>NaN</td>\n",
       "      <td>NaN</td>\n",
       "      <td>NaN</td>\n",
       "      <td>6.0</td>\n",
       "      <td>NaN</td>\n",
       "      <td>1.0</td>\n",
       "      <td>NaN</td>\n",
       "      <td>...</td>\n",
       "      <td>0</td>\n",
       "      <td>0</td>\n",
       "      <td>0</td>\n",
       "      <td>4670.540953</td>\n",
       "      <td>5795.692880</td>\n",
       "      <td>6269.200989</td>\n",
       "      <td>1</td>\n",
       "      <td>78</td>\n",
       "      <td>NaN</td>\n",
       "      <td>7.5000</td>\n",
       "    </tr>\n",
       "  </tbody>\n",
       "</table>\n",
       "<p>13593 rows × 244 columns</p>\n",
       "</div>"
      ],
      "text/plain": [
       "       caseid  pregordr  howpreg_n  howpreg_p  moscurrp  nowprgdk  pregend1  \\\n",
       "0           1         1        NaN        NaN       NaN       NaN       6.0   \n",
       "1           1         2        NaN        NaN       NaN       NaN       6.0   \n",
       "2           2         1        NaN        NaN       NaN       NaN       5.0   \n",
       "3           2         2        NaN        NaN       NaN       NaN       6.0   \n",
       "4           2         3        NaN        NaN       NaN       NaN       6.0   \n",
       "...       ...       ...        ...        ...       ...       ...       ...   \n",
       "13588   12571         1        NaN        NaN       NaN       NaN       6.0   \n",
       "13589   12571         2        NaN        NaN       NaN       NaN       3.0   \n",
       "13590   12571         3        NaN        NaN       NaN       NaN       3.0   \n",
       "13591   12571         4        NaN        NaN       NaN       NaN       6.0   \n",
       "13592   12571         5        NaN        NaN       NaN       NaN       6.0   \n",
       "\n",
       "       pregend2  nbrnaliv  multbrth  ...  laborfor_i  religion_i  metro_i  \\\n",
       "0           NaN       1.0       NaN  ...           0           0        0   \n",
       "1           NaN       1.0       NaN  ...           0           0        0   \n",
       "2           NaN       3.0       5.0  ...           0           0        0   \n",
       "3           NaN       1.0       NaN  ...           0           0        0   \n",
       "4           NaN       1.0       NaN  ...           0           0        0   \n",
       "...         ...       ...       ...  ...         ...         ...      ...   \n",
       "13588       NaN       1.0       NaN  ...           0           0        0   \n",
       "13589       NaN       NaN       NaN  ...           0           0        0   \n",
       "13590       NaN       NaN       NaN  ...           0           0        0   \n",
       "13591       NaN       1.0       NaN  ...           0           0        0   \n",
       "13592       NaN       1.0       NaN  ...           0           0        0   \n",
       "\n",
       "           basewgt  adj_mod_basewgt      finalwgt  secu_p  sest  cmintvw  \\\n",
       "0      3410.389399      3869.349602   6448.271112       2     9      NaN   \n",
       "1      3410.389399      3869.349602   6448.271112       2     9      NaN   \n",
       "2      7226.301740      8567.549110  12999.542264       2    12      NaN   \n",
       "3      7226.301740      8567.549110  12999.542264       2    12      NaN   \n",
       "4      7226.301740      8567.549110  12999.542264       2    12      NaN   \n",
       "...            ...              ...           ...     ...   ...      ...   \n",
       "13588  4670.540953      5795.692880   6269.200989       1    78      NaN   \n",
       "13589  4670.540953      5795.692880   6269.200989       1    78      NaN   \n",
       "13590  4670.540953      5795.692880   6269.200989       1    78      NaN   \n",
       "13591  4670.540953      5795.692880   6269.200989       1    78      NaN   \n",
       "13592  4670.540953      5795.692880   6269.200989       1    78      NaN   \n",
       "\n",
       "       totalwgt_lb  \n",
       "0           8.8125  \n",
       "1           7.8750  \n",
       "2           9.1250  \n",
       "3           7.0000  \n",
       "4           6.1875  \n",
       "...            ...  \n",
       "13588       6.1875  \n",
       "13589          NaN  \n",
       "13590          NaN  \n",
       "13591       7.5000  \n",
       "13592       7.5000  \n",
       "\n",
       "[13593 rows x 244 columns]"
      ]
     },
     "execution_count": 69,
     "metadata": {},
     "output_type": "execute_result"
    }
   ],
   "source": [
    "# importing data frame\n",
    ">>> import nsfg\n",
    ">>> df = nsfg.ReadFemPreg()\n",
    ">>> df"
   ]
  },
  {
   "cell_type": "code",
   "execution_count": 70,
   "metadata": {},
   "outputs": [
    {
     "data": {
      "text/plain": [
       "Index(['caseid', 'pregordr', 'howpreg_n', 'howpreg_p', 'moscurrp', 'nowprgdk',\n",
       "       'pregend1', 'pregend2', 'nbrnaliv', 'multbrth',\n",
       "       ...\n",
       "       'laborfor_i', 'religion_i', 'metro_i', 'basewgt', 'adj_mod_basewgt',\n",
       "       'finalwgt', 'secu_p', 'sest', 'cmintvw', 'totalwgt_lb'],\n",
       "      dtype='object', length=244)"
      ]
     },
     "execution_count": 70,
     "metadata": {},
     "output_type": "execute_result"
    }
   ],
   "source": [
    "#Returning column names as unicode\n",
    "df.columns"
   ]
  },
  {
   "cell_type": "code",
   "execution_count": 151,
   "metadata": {},
   "outputs": [
    {
     "data": {
      "text/plain": [
       "'pregordr'"
      ]
     },
     "execution_count": 151,
     "metadata": {},
     "output_type": "execute_result"
    }
   ],
   "source": [
    ">>> df.columns[1]"
   ]
  },
  {
   "cell_type": "code",
   "execution_count": 152,
   "metadata": {},
   "outputs": [
    {
     "data": {
      "text/plain": [
       "0        39\n",
       "1        39\n",
       "2        39\n",
       "3        39\n",
       "4        39\n",
       "         ..\n",
       "13588    39\n",
       "13589     6\n",
       "13590     5\n",
       "13591    39\n",
       "13592    39\n",
       "Name: prglngth, Length: 13593, dtype: int64"
      ]
     },
     "execution_count": 152,
     "metadata": {},
     "output_type": "execute_result"
    }
   ],
   "source": [
    "prglngth"
   ]
  },
  {
   "cell_type": "code",
   "execution_count": 154,
   "metadata": {},
   "outputs": [
    {
     "data": {
      "text/plain": [
       "1    9148\n",
       "2    1862\n",
       "3     120\n",
       "4    1921\n",
       "5     190\n",
       "6     352\n",
       "Name: outcome, dtype: int64"
      ]
     },
     "execution_count": 154,
     "metadata": {},
     "output_type": "execute_result"
    }
   ],
   "source": [
    "#counting number of times each value appears\n",
    ">>> df.outcome.value_counts().sort_index()\n"
   ]
  },
  {
   "cell_type": "code",
   "execution_count": 156,
   "metadata": {},
   "outputs": [
    {
     "data": {
      "text/plain": [
       "8.0     1889\n",
       "7.0     3049\n",
       "6.0     2223\n",
       "4.0      229\n",
       "5.0      697\n",
       "10.0     132\n",
       "12.0      10\n",
       "14.0       3\n",
       "3.0       98\n",
       "1.0       40\n",
       "2.0       53\n",
       "0.0        8\n",
       "9.0      623\n",
       "11.0      26\n",
       "13.0       3\n",
       "15.0       1\n",
       "Name: birthwgt_lb, dtype: int64"
      ]
     },
     "execution_count": 156,
     "metadata": {},
     "output_type": "execute_result"
    }
   ],
   "source": [
    "#Displaying birthwight in lb and their counts e.g the count for baby weighing 15 pound is 1\n",
    ">>> df.birthwgt_lb.value_counts(sort=False)\n"
   ]
  },
  {
   "cell_type": "code",
   "execution_count": 180,
   "metadata": {},
   "outputs": [],
   "source": [
    "#because of the way the data files are organized, we do processing to get pregnancy data for each respondent\n",
    "def MakePregMap(df):\n",
    "    d = defaultdict(list)\n",
    "    for index, caseid in df.caseid.iteritems():\n",
    "        d[caseid].append(index)\n",
    "    return d\n"
   ]
  },
  {
   "cell_type": "code",
   "execution_count": 184,
   "metadata": {},
   "outputs": [
    {
     "data": {
      "text/plain": [
       "array([4, 4, 4, 4, 4, 4, 1], dtype=int64)"
      ]
     },
     "execution_count": 184,
     "metadata": {},
     "output_type": "execute_result"
    }
   ],
   "source": [
    "#code 4 is miscarriage, code 1 is life birth.This respondent had 6 miscarriages and 1 life birth\n",
    ">>> caseid = 10229\n",
    ">>> preg_map = nsfg.MakePregMap(df)\n",
    ">>> indices = preg_map[caseid]\n",
    ">>> df.outcome[indices].values"
   ]
  },
  {
   "cell_type": "code",
   "execution_count": 185,
   "metadata": {},
   "outputs": [],
   "source": [
    "preg = nsfg.ReadFemPreg()"
   ]
  },
  {
   "cell_type": "code",
   "execution_count": 190,
   "metadata": {},
   "outputs": [
    {
     "ename": "SyntaxError",
     "evalue": "'return' outside function (<ipython-input-190-16f8e864ba8a>, line 3)",
     "output_type": "error",
     "traceback": [
      "\u001b[1;36m  File \u001b[1;32m\"<ipython-input-190-16f8e864ba8a>\"\u001b[1;36m, line \u001b[1;32m3\u001b[0m\n\u001b[1;33m    return False\u001b[0m\n\u001b[1;37m    ^\u001b[0m\n\u001b[1;31mSyntaxError\u001b[0m\u001b[1;31m:\u001b[0m 'return' outside function\n"
     ]
    }
   ],
   "source": [
    " if len(indices) != pregnum:\n",
    "            print(caseid, len(indices), pregnum)\n",
    "            return False\n",
    "\n",
    "            return True\n"
   ]
  },
  {
   "cell_type": "code",
   "execution_count": 199,
   "metadata": {},
   "outputs": [
    {
     "ename": "IndentationError",
     "evalue": "unexpected indent (<ipython-input-199-52373a2db368>, line 8)",
     "output_type": "error",
     "traceback": [
      "\u001b[1;36m  File \u001b[1;32m\"<ipython-input-199-52373a2db368>\"\u001b[1;36m, line \u001b[1;32m8\u001b[0m\n\u001b[1;33m    for index, pregnum in resp.pregnum.items():\u001b[0m\n\u001b[1;37m    ^\u001b[0m\n\u001b[1;31mIndentationError\u001b[0m\u001b[1;31m:\u001b[0m unexpected indent\n"
     ]
    }
   ],
   "source": [
    " # read the pregnancy frame\n",
    "preg = nsfg.ReadFemPreg()\n",
    "\n",
    "    # make the map from caseid to list of pregnancy indices\n",
    "preg_map = nsfg.MakePregMap(preg)\n",
    "    \n",
    "    # iterate through the respondent pregnum series\n",
    "    for index, pregnum in resp.pregnum.items():\n",
    "        caseid = resp.caseid[index]\n",
    "        indices = preg_map[caseid]"
   ]
  },
  {
   "cell_type": "code",
   "execution_count": 223,
   "metadata": {},
   "outputs": [
    {
     "data": {
      "text/plain": [
       "<bound method IndexOpsMixin.value_counts of 0        1.0\n",
       "1        2.0\n",
       "2        1.0\n",
       "3        2.0\n",
       "4        3.0\n",
       "        ... \n",
       "13588    1.0\n",
       "13589    NaN\n",
       "13590    NaN\n",
       "13591    2.0\n",
       "13592    3.0\n",
       "Name: birthord, Length: 13593, dtype: float64>"
      ]
     },
     "execution_count": 223,
     "metadata": {},
     "output_type": "execute_result"
    }
   ],
   "source": [
    "#Printing the value count for birthord\n",
    "preg.birthord.value_counts"
   ]
  },
  {
   "cell_type": "code",
   "execution_count": 217,
   "metadata": {},
   "outputs": [
    {
     "name": "stdout",
     "output_type": "stream",
     "text": [
      "(13593, 244)\n"
     ]
    }
   ],
   "source": [
    "# read and validate pregnancy file\n",
    "preg = ReadFemPreg()\n",
    "print(preg.shape)"
   ]
  },
  {
   "cell_type": "code",
   "execution_count": 222,
   "metadata": {},
   "outputs": [
    {
     "data": {
      "text/plain": [
       "<bound method IndexOpsMixin.value_counts of 0        2\n",
       "1        2\n",
       "2        3\n",
       "3        3\n",
       "4        3\n",
       "        ..\n",
       "13588    5\n",
       "13589    5\n",
       "13590    5\n",
       "13591    5\n",
       "13592    5\n",
       "Name: pregnum, Length: 13593, dtype: int64>"
      ]
     },
     "execution_count": 222,
     "metadata": {},
     "output_type": "execute_result"
    }
   ],
   "source": [
    "#Printing the value count for pregnum\n",
    "#It indicates howmany times each respondent has been pregnant\n",
    "preg.pregnum.value_counts"
   ]
  },
  {
   "cell_type": "code",
   "execution_count": 225,
   "metadata": {},
   "outputs": [],
   "source": [
    " df.agepreg /= 100.0"
   ]
  },
  {
   "cell_type": "code",
   "execution_count": 228,
   "metadata": {},
   "outputs": [
    {
     "data": {
      "text/plain": [
       "<bound method IndexOpsMixin.value_counts of 0        33.16\n",
       "1        39.25\n",
       "2        14.33\n",
       "3        17.83\n",
       "4        18.33\n",
       "         ...  \n",
       "13588    17.91\n",
       "13589    18.50\n",
       "13590    19.75\n",
       "13591    21.58\n",
       "13592    21.58\n",
       "Name: agepreg, Length: 13593, dtype: float64>"
      ]
     },
     "execution_count": 228,
     "metadata": {},
     "output_type": "execute_result"
    }
   ],
   "source": [
    "#list the ages of the respondents\n",
    "preg.agepreg.value_counts"
   ]
  },
  {
   "cell_type": "code",
   "execution_count": 262,
   "metadata": {},
   "outputs": [
    {
     "data": {
      "text/plain": [
       "Hist({1: 1, 2: 2, 3: 1, 5: 1})"
      ]
     },
     "execution_count": 262,
     "metadata": {},
     "output_type": "execute_result"
    }
   ],
   "source": [
    ">>> import thinkstats2\n",
    ">>> hist = thinkstats2.Hist([1, 2, 2, 3, 5])\n",
    ">>> hist\n"
   ]
  },
  {
   "cell_type": "code",
   "execution_count": 272,
   "metadata": {},
   "outputs": [
    {
     "data": {
      "text/plain": [
       "2"
      ]
     },
     "execution_count": 272,
     "metadata": {},
     "output_type": "execute_result"
    }
   ],
   "source": [
    ">>> hist.Freq(2)"
   ]
  },
  {
   "cell_type": "code",
   "execution_count": 273,
   "metadata": {},
   "outputs": [
    {
     "data": {
      "text/plain": [
       "dict_keys([1, 2, 3, 5])"
      ]
     },
     "execution_count": 273,
     "metadata": {},
     "output_type": "execute_result"
    }
   ],
   "source": [
    ">>> hist.Values()\n",
    "\n",
    "\n"
   ]
  },
  {
   "cell_type": "code",
   "execution_count": 275,
   "metadata": {},
   "outputs": [
    {
     "name": "stdout",
     "output_type": "stream",
     "text": [
      "1 1\n",
      "2 2\n",
      "3 1\n",
      "5 1\n"
     ]
    }
   ],
   "source": [
    "for val in sorted(hist.Values()):\n",
    "    print(val, hist.Freq(val))\n",
    "\n"
   ]
  },
  {
   "cell_type": "code",
   "execution_count": 277,
   "metadata": {},
   "outputs": [
    {
     "name": "stdout",
     "output_type": "stream",
     "text": [
      "1 1\n",
      "2 2\n",
      "3 1\n",
      "5 1\n"
     ]
    }
   ],
   "source": [
    "for val, freq in hist.Items():\n",
    "    print(val, freq)"
   ]
  },
  {
   "cell_type": "code",
   "execution_count": 278,
   "metadata": {},
   "outputs": [
    {
     "data": {
      "image/png": "[encoded data removed]",
      "text/plain": [
       "<Figure size 432x288 with 1 Axes>"
      ]
     },
     "metadata": {
      "needs_background": "light"
     },
     "output_type": "display_data"
    },
    {
     "data": {
      "text/plain": [
       "<Figure size 576x432 with 0 Axes>"
      ]
     },
     "metadata": {},
     "output_type": "display_data"
    }
   ],
   "source": [
    ">>> import thinkplot\n",
    ">>> thinkplot.Hist(hist)\n",
    ">>> thinkplot.Show(xlabel='value', ylabel='frequency')\n"
   ]
  },
  {
   "cell_type": "code",
   "execution_count": 279,
   "metadata": {},
   "outputs": [],
   "source": [
    "preg = nsfg.ReadFemPreg()\n",
    "live = preg[preg.outcome == 1]\n"
   ]
  },
  {
   "cell_type": "code",
   "execution_count": 280,
   "metadata": {},
   "outputs": [
    {
     "data": {
      "image/png": "[encoded data removed]",
      "text/plain": [
       "<Figure size 432x288 with 1 Axes>"
      ]
     },
     "metadata": {
      "needs_background": "light"
     },
     "output_type": "display_data"
    },
    {
     "data": {
      "text/plain": [
       "<Figure size 576x432 with 0 Axes>"
      ]
     },
     "metadata": {},
     "output_type": "display_data"
    }
   ],
   "source": [
    "hist = thinkstats2.Hist(live.birthwgt_lb, label='birthwgt_lb')\n",
    "thinkplot.Hist(hist)\n",
    "thinkplot.Show(xlabel='pounds', ylabel='frequency')\n"
   ]
  },
  {
   "cell_type": "code",
   "execution_count": 282,
   "metadata": {},
   "outputs": [
    {
     "name": "stdout",
     "output_type": "stream",
     "text": [
      "0.0 8\n",
      "1.0 40\n",
      "2.0 53\n",
      "3.0 98\n",
      "4.0 229\n",
      "5.0 697\n",
      "6.0 2223\n",
      "7.0 3049\n",
      "8.0 1889\n",
      "9.0 623\n"
     ]
    }
   ],
   "source": [
    "for weeks, freq in hist.Smallest(10):\n",
    "    print(weeks, freq)\n"
   ]
  },
  {
   "cell_type": "code",
   "execution_count": 283,
   "metadata": {},
   "outputs": [],
   "source": [
    "firsts = live[live.birthord == 1]\n",
    "others = live[live.birthord != 1]\n",
    "first_hist = thinkstats2.Hist(firsts.prglngth, label='first')\n",
    "other_hist = thinkstats2.Hist(others.prglngth, label='other')"
   ]
  },
  {
   "cell_type": "code",
   "execution_count": 284,
   "metadata": {},
   "outputs": [
    {
     "data": {
      "image/png": "[encoded data removed]",
      "text/plain": [
       "<Figure size 432x288 with 1 Axes>"
      ]
     },
     "metadata": {
      "needs_background": "light"
     },
     "output_type": "display_data"
    },
    {
     "data": {
      "text/plain": [
       "<Figure size 576x432 with 0 Axes>"
      ]
     },
     "metadata": {},
     "output_type": "display_data"
    }
   ],
   "source": [
    "width = 0.45\n",
    "thinkplot.PrePlot(2)\n",
    "thinkplot.Hist(first_hist, align='right', width=width)\n",
    "thinkplot.Hist(other_hist, align='left', width=width)\n",
    "thinkplot.Show(xlabel='weeks', ylabel='frequency',\n",
    "xlim=[27, 46])\n"
   ]
  },
  {
   "cell_type": "code",
   "execution_count": 332,
   "metadata": {},
   "outputs": [
    {
     "name": "stdout",
     "output_type": "stream",
     "text": [
      "Mode of preg length 7.0\n"
     ]
    },
    {
     "ename": "AssertionError",
     "evalue": "",
     "output_type": "error",
     "traceback": [
      "\u001b[1;31m---------------------------------------------------------------------------\u001b[0m",
      "\u001b[1;31mAssertionError\u001b[0m                            Traceback (most recent call last)",
      "\u001b[1;32m<ipython-input-332-9394d7d25aee>\u001b[0m in \u001b[0;36m<module>\u001b[1;34m\u001b[0m\n\u001b[0;32m      1\u001b[0m \u001b[0mmode\u001b[0m \u001b[1;33m=\u001b[0m \u001b[0mMode\u001b[0m\u001b[1;33m(\u001b[0m\u001b[0mhist\u001b[0m\u001b[1;33m)\u001b[0m\u001b[1;33m\u001b[0m\u001b[1;33m\u001b[0m\u001b[0m\n\u001b[0;32m      2\u001b[0m \u001b[0mprint\u001b[0m\u001b[1;33m(\u001b[0m\u001b[1;34m'Mode of preg length'\u001b[0m\u001b[1;33m,\u001b[0m \u001b[0mmode\u001b[0m\u001b[1;33m)\u001b[0m\u001b[1;33m\u001b[0m\u001b[1;33m\u001b[0m\u001b[0m\n\u001b[1;32m----> 3\u001b[1;33m \u001b[1;32massert\u001b[0m\u001b[1;33m(\u001b[0m\u001b[0mmode\u001b[0m \u001b[1;33m==\u001b[0m \u001b[1;36m39\u001b[0m\u001b[1;33m)\u001b[0m\u001b[1;33m\u001b[0m\u001b[1;33m\u001b[0m\u001b[0m\n\u001b[0m",
      "\u001b[1;31mAssertionError\u001b[0m: "
     ]
    }
   ],
   "source": [
    "mode = Mode(hist)\n",
    "print('Mode of preg length', mode)\n",
    "assert(mode == 39)"
   ]
  },
  {
   "cell_type": "code",
   "execution_count": 307,
   "metadata": {},
   "outputs": [
    {
     "ename": "AssertionError",
     "evalue": "",
     "output_type": "error",
     "traceback": [
      "\u001b[1;31m---------------------------------------------------------------------------\u001b[0m",
      "\u001b[1;31mAssertionError\u001b[0m                            Traceback (most recent call last)",
      "\u001b[1;32m<ipython-input-307-44630c74ec89>\u001b[0m in \u001b[0;36m<module>\u001b[1;34m\u001b[0m\n\u001b[0;32m      1\u001b[0m \u001b[0mmodes\u001b[0m \u001b[1;33m=\u001b[0m \u001b[0mAllModes\u001b[0m\u001b[1;33m(\u001b[0m\u001b[0mhist\u001b[0m\u001b[1;33m)\u001b[0m\u001b[1;33m\u001b[0m\u001b[1;33m\u001b[0m\u001b[0m\n\u001b[1;32m----> 2\u001b[1;33m \u001b[1;32massert\u001b[0m\u001b[1;33m(\u001b[0m\u001b[0mmodes\u001b[0m\u001b[1;33m[\u001b[0m\u001b[1;36m0\u001b[0m\u001b[1;33m]\u001b[0m\u001b[1;33m[\u001b[0m\u001b[1;36m1\u001b[0m\u001b[1;33m]\u001b[0m \u001b[1;33m==\u001b[0m \u001b[1;36m4693\u001b[0m\u001b[1;33m)\u001b[0m\u001b[1;33m\u001b[0m\u001b[1;33m\u001b[0m\u001b[0m\n\u001b[0m\u001b[0;32m      3\u001b[0m \u001b[1;32mfor\u001b[0m \u001b[0mvalue\u001b[0m\u001b[1;33m,\u001b[0m \u001b[0mfreq\u001b[0m \u001b[1;32min\u001b[0m \u001b[0mmodes\u001b[0m\u001b[1;33m[\u001b[0m\u001b[1;33m:\u001b[0m\u001b[1;36m5\u001b[0m\u001b[1;33m]\u001b[0m\u001b[1;33m:\u001b[0m\u001b[1;33m\u001b[0m\u001b[1;33m\u001b[0m\u001b[0m\n\u001b[0;32m      4\u001b[0m     \u001b[0mprint\u001b[0m\u001b[1;33m(\u001b[0m\u001b[0mvalue\u001b[0m\u001b[1;33m,\u001b[0m \u001b[0mfreq\u001b[0m\u001b[1;33m)\u001b[0m\u001b[1;33m\u001b[0m\u001b[1;33m\u001b[0m\u001b[0m\n",
      "\u001b[1;31mAssertionError\u001b[0m: "
     ]
    }
   ],
   "source": [
    "modes = AllModes(hist)\n",
    "assert(modes[0][1] == 4693)\n",
    "for value, freq in modes[:5]:\n",
    "    print(value, freq)"
   ]
  },
  {
   "cell_type": "code",
   "execution_count": 305,
   "metadata": {},
   "outputs": [],
   "source": [
    "from __future__ import print_function\n",
    "\n",
    "import sys\n",
    "from operator import itemgetter\n",
    "\n",
    "import first\n",
    "import thinkstats2\n",
    "\n",
    "\n",
    "def Mode(hist):\n",
    "    \"\"\"Returns the value with the highest frequency.\n",
    "\n",
    "    hist: Hist object\n",
    "\n",
    "    returns: value from Hist\n",
    "    \"\"\"\n",
    "    p, x = max([(p, x) for x, p in hist.Items()])\n",
    "    return x\n",
    "\n"
   ]
  },
  {
   "cell_type": "code",
   "execution_count": 304,
   "metadata": {},
   "outputs": [],
   "source": [
    "\n",
    "def AllModes(hist):\n",
    "    \"\"\"Returns value-freq pairs in decreasing order of frequency.\n",
    "\n",
    "    hist: Hist object\n",
    "\n",
    "    returns: iterator of value-freq pairs\n",
    "    \"\"\"\n",
    "    return sorted(hist.Items(), key=itemgetter(1), reverse=True)\n"
   ]
  },
  {
   "cell_type": "code",
   "execution_count": 310,
   "metadata": {},
   "outputs": [],
   "source": [
    "\n",
    "def WeightDifference(live, firsts, others):\n",
    "    \"\"\"Explore the difference in weight between first babies and others.\n",
    "\n",
    "    live: DataFrame of all live births\n",
    "    firsts: DataFrame of first babies\n",
    "    others: DataFrame of others\n",
    "    \"\"\"\n",
    "    mean0 = live.totalwgt_lb.mean()\n",
    "    mean1 = firsts.totalwgt_lb.mean()\n",
    "    mean2 = others.totalwgt_lb.mean()\n",
    "\n",
    "    var1 = firsts.totalwgt_lb.var()\n",
    "    var2 = others.totalwgt_lb.var()\n",
    "\n",
    "    print('Mean')\n",
    "    print('First babies', mean1)\n",
    "    print('Others', mean2)"
   ]
  },
  {
   "cell_type": "code",
   "execution_count": 317,
   "metadata": {},
   "outputs": [],
   "source": [
    "def WeightDifference(live, firsts, others):\n",
    "    \"\"\"Explore the difference in weight between first babies and others.\n",
    "\n",
    "    live: DataFrame of all live births\n",
    "    firsts: DataFrame of first babies\n",
    "    others: DataFrame of others\n",
    "    \"\"\"\n",
    "    mean0 = live.totalwgt_lb.mean()\n",
    "    mean1 = firsts.totalwgt_lb.mean()\n",
    "    mean2 = others.totalwgt_lb.mean()\n",
    "\n",
    "    var1 = firsts.totalwgt_lb.var()\n",
    "    var2 = others.totalwgt_lb.var()\n",
    "\n",
    "    print('Mean')\n",
    "    print('First babies', mean1)\n",
    "    print('Others', mean2)\n",
    "\n",
    "    print('Variance')\n",
    "    print('First babies', var1)\n",
    "    print('Others', var2)\n",
    "\n",
    "    print('Difference in lbs', mean1 - mean2)\n",
    "    print('Difference in oz', (mean1 - mean2) * 16)\n",
    "\n",
    "    print('Difference relative to mean (%age points)', \n",
    "          (mean1 - mean2) / mean0 * 100)\n",
    "\n",
    "    d = thinkstats2.CohenEffectSize(firsts.totalwgt_lb, others.totalwgt_lb)\n",
    "    print('Cohen d', d)\n"
   ]
  },
  {
   "cell_type": "code",
   "execution_count": 319,
   "metadata": {},
   "outputs": [
    {
     "name": "stdout",
     "output_type": "stream",
     "text": [
      "Cohen d -0.088672927072602\n"
     ]
    }
   ],
   "source": [
    "d = thinkstats2.CohenEffectSize(firsts.totalwgt_lb, others.totalwgt_lb)\n",
    "print('Cohen d', d)"
   ]
  },
  {
   "cell_type": "code",
   "execution_count": 325,
   "metadata": {},
   "outputs": [
    {
     "name": "stdout",
     "output_type": "stream",
     "text": [
      "Mean\n",
      "First babies 7.201094430437772\n",
      "Others 7.325855614973262\n"
     ]
    }
   ],
   "source": [
    "mean0 = live.totalwgt_lb.mean()\n",
    "mean1 = firsts.totalwgt_lb.mean()\n",
    "mean2 = others.totalwgt_lb.mean()\n",
    "\n",
    "print('Mean')\n",
    "print('First babies', mean1)\n",
    "print('Others', mean2)\n"
   ]
  },
  {
   "cell_type": "code",
   "execution_count": 330,
   "metadata": {},
   "outputs": [
    {
     "name": "stdout",
     "output_type": "stream",
     "text": [
      "7.0\n"
     ]
    }
   ],
   "source": [
    "def Mode(hist):\n",
    "    \"\"\"Returns the value with the highest frequency.\n",
    "\n",
    "    hist: Hist object\n",
    "\n",
    "    returns: value from Hist\n",
    "    \"\"\"\n",
    "    p, x = max([(p, x) for x, p in hist.Items()])\n",
    "    return x\n",
    "print(mode)"
   ]
  },
  {
   "cell_type": "code",
   "execution_count": 426,
   "metadata": {},
   "outputs": [],
   "source": [
    "def main(script):\n",
    "     # Tests the all the functions in this module.\n",
    "    resp = ReadFemResp()\n",
    "    assert(len(resp) == 7643)\n",
    "    assert(resp.pregnum.value_counts()[1] == 1267)\n",
    "    assert(ValidatePregnum(resp))\n",
    "    print('%s: All tests passed.' % script)"
   ]
  },
  {
   "cell_type": "code",
   "execution_count": 428,
   "metadata": {},
   "outputs": [],
   "source": [
    "def main():\n",
    "     # Tests the all the functions in this module.\n",
    "    resp = ReadFemResp()\n",
    "    assert(len(resp) == 7643)\n",
    "    assert(resp.pregnum.value_counts()[1] == 1267)\n",
    "    assert(ValidatePregnum(resp))\n",
    "    print('All tests passed.')"
   ]
  },
  {
   "cell_type": "code",
   "execution_count": null,
   "metadata": {},
   "outputs": [],
   "source": [
    "\n"
   ]
  }
 ],
 "metadata": {
  "kernelspec": {
   "display_name": "Python 3",
   "language": "python",
   "name": "python3"
  },
  "language_info": {
   "codemirror_mode": {
    "name": "ipython",
    "version": 3
   },
   "file_extension": ".py",
   "mimetype": "text/x-python",
   "name": "python",
   "nbconvert_exporter": "python",
   "pygments_lexer": "ipython3",
   "version": "3.7.6"
  }
 },
 "nbformat": 4,
 "nbformat_minor": 4
}
